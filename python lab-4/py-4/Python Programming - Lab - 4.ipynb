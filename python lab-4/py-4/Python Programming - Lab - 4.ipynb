{
 "cells": [
  {
   "cell_type": "markdown",
   "metadata": {},
   "source": [
    "\n",
    "<a href='https://www.darshan.ac.in/'> <img src='https://www.darshan.ac.in/Content/media/DU_Logo.svg' width=\"250\" height=\"300\"/></a>\n",
    "<pre>\n",
    "<center><b><h1>Python Programming - 2301CS404</b></center>\n",
    "    <center><b><h1>Gohil priyanshiba 23010101090  date:20-12-24</h1></b></center>\n",
    "\n",
    "<center><b><h1>Lab - 4</b></center>    \n",
    "<pre>"
   ]
  },
  {
   "cell_type": "markdown",
   "metadata": {},
   "source": [
    "# String"
   ]
  },
  {
   "cell_type": "markdown",
   "metadata": {},
   "source": [
    "### 01) WAP to check whether the given string is palindrome or not."
   ]
  },
  {
   "cell_type": "code",
   "execution_count": 15,
   "metadata": {},
   "outputs": [
    {
     "name": "stdin",
     "output_type": "stream",
     "text": [
      "enter a string abdcf\n"
     ]
    },
    {
     "name": "stdout",
     "output_type": "stream",
     "text": [
      "not pallindrom\n"
     ]
    }
   ],
   "source": [
    "str=input('enter a string')\n",
    "rev = str[::-1]\n",
    "if rev==str:\n",
    "    print('pallindrom')\n",
    "else:\n",
    "        print('not pallindrom')\n",
    "    "
   ]
  },
  {
   "cell_type": "markdown",
   "metadata": {},
   "source": [
    "### 02) WAP to reverse the words in the given string."
   ]
  },
  {
   "cell_type": "code",
   "execution_count": 17,
   "metadata": {},
   "outputs": [
    {
     "name": "stdin",
     "output_type": "stream",
     "text": [
      "enter a string ghdja\n"
     ]
    },
    {
     "name": "stdout",
     "output_type": "stream",
     "text": [
      "ajdhg\n"
     ]
    }
   ],
   "source": [
    "str=input('enter a string')\n",
    "rev = str[::-1]\n",
    "print(rev)"
   ]
  },
  {
   "cell_type": "markdown",
   "metadata": {},
   "source": [
    "### 03) WAP to remove ith character from given string."
   ]
  },
  {
   "cell_type": "code",
   "execution_count": 21,
   "metadata": {},
   "outputs": [
    {
     "name": "stdin",
     "output_type": "stream",
     "text": [
      "enter a string gujh\n",
      "enter number to remove 2\n"
     ]
    },
    {
     "name": "stdout",
     "output_type": "stream",
     "text": [
      "guh\n"
     ]
    }
   ],
   "source": [
    "str = input('enter a string')\n",
    "i=int(input('enter number to remove'))\n",
    "ans=str[0:i:]+str[i+1::]\n",
    "print(ans)"
   ]
  },
  {
   "cell_type": "markdown",
   "metadata": {},
   "source": [
    "### 04) WAP to find length of string without using len function."
   ]
  },
  {
   "cell_type": "code",
   "execution_count": 25,
   "metadata": {},
   "outputs": [
    {
     "name": "stdin",
     "output_type": "stream",
     "text": [
      "enter a string jfhg\n"
     ]
    },
    {
     "name": "stdout",
     "output_type": "stream",
     "text": [
      "4\n"
     ]
    }
   ],
   "source": [
    "str=input('enter a string')\n",
    "ans=0\n",
    "for i in str:\n",
    "    ans+=1\n",
    "print(ans)"
   ]
  },
  {
   "cell_type": "markdown",
   "metadata": {},
   "source": [
    "### 05) WAP to print even length word in string."
   ]
  },
  {
   "cell_type": "code",
   "execution_count": 35,
   "metadata": {},
   "outputs": [
    {
     "name": "stdin",
     "output_type": "stream",
     "text": [
      "enter a string asdf\n"
     ]
    },
    {
     "name": "stdout",
     "output_type": "stream",
     "text": [
      "even string asdf\n"
     ]
    }
   ],
   "source": [
    "str=input('enter a string')\n",
    "s=str.split(' ')\n",
    "for i in s:\n",
    "    if(len(i)%2==0):\n",
    "        print('even string',i)\n",
    "    else:\n",
    "        print('odd')"
   ]
  },
  {
   "cell_type": "markdown",
   "metadata": {},
   "source": [
    "### 06) WAP to count numbers of vowels in given string."
   ]
  },
  {
   "cell_type": "code",
   "execution_count": 43,
   "metadata": {},
   "outputs": [
    {
     "name": "stdin",
     "output_type": "stream",
     "text": [
      "enter a string HIIIIiiiiiiii\n"
     ]
    },
    {
     "name": "stdout",
     "output_type": "stream",
     "text": [
      "12\n"
     ]
    }
   ],
   "source": [
    "str=input('enter a string')\n",
    "ans=0\n",
    "s=str.lower()\n",
    "s=str.upper()\n",
    "for i in str:\n",
    "    if(i=='a' or i=='e' or i=='i' or i=='o' or i=='u'or i=='A' or i=='E' or i=='I' or i=='O' or i=='U'):\n",
    "        ans+=1\n",
    "print(ans)"
   ]
  },
  {
   "cell_type": "markdown",
   "metadata": {},
   "source": [
    "### 07) WAP to capitalize the first and last character of each word in a string."
   ]
  },
  {
   "cell_type": "code",
   "execution_count": 45,
   "metadata": {},
   "outputs": [
    {
     "name": "stdin",
     "output_type": "stream",
     "text": [
      "enter a string hii helloo\n"
     ]
    },
    {
     "name": "stdout",
     "output_type": "stream",
     "text": [
      " HiI \n",
      " HiI HelloO \n"
     ]
    }
   ],
   "source": [
    "str=input('enter a string')\n",
    "ans=' '\n",
    "end=' '\n",
    "s=str.split(' ')\n",
    "for i in s:\n",
    "    ans=i[0:1].upper()+ i[1:len(i)-1:]+i[len(i)-1::].upper()\n",
    "    end+=ans + ' '\n",
    "    print(end)"
   ]
  },
  {
   "cell_type": "markdown",
   "metadata": {},
   "source": [
    "### 08) WAP to convert given array to string."
   ]
  },
  {
   "cell_type": "code",
   "execution_count": 49,
   "metadata": {},
   "outputs": [
    {
     "name": "stdout",
     "output_type": "stream",
     "text": [
      " hii helloo piyuba shreeya \n"
     ]
    }
   ],
   "source": [
    "arr=['hii','helloo','piyuba','shreeya']\n",
    "str=' '\n",
    "for i in arr:\n",
    "    str+=i+' '\n",
    "print(str)"
   ]
  },
  {
   "cell_type": "markdown",
   "metadata": {},
   "source": [
    "### 09) Check if the password and confirm password is same or not. \n",
    "### In case of only case's mistake, show the error message."
   ]
  },
  {
   "cell_type": "code",
   "execution_count": 55,
   "metadata": {},
   "outputs": [
    {
     "name": "stdin",
     "output_type": "stream",
     "text": [
      "enter a password jii\n",
      "confirm password kii\n"
     ]
    },
    {
     "name": "stdout",
     "output_type": "stream",
     "text": [
      "ERROR : incorrect password please try again!!!!!!\n"
     ]
    }
   ],
   "source": [
    "pw=input('enter a password')\n",
    "cf=input('confirm password')\n",
    "if(pw==cf):\n",
    "    print('password is same')\n",
    "else:\n",
    "    print('ERROR : incorrect password please try again!!!!!!')"
   ]
  },
  {
   "cell_type": "markdown",
   "metadata": {},
   "source": [
    "### 10) : Display credit card number. \n",
    "### card no. : 1234 5678 9012 3456\n",
    "### display as  : **** **** **** 3456"
   ]
  },
  {
   "cell_type": "code",
   "execution_count": 78,
   "metadata": {},
   "outputs": [
    {
     "name": "stdin",
     "output_type": "stream",
     "text": [
      "enter a card number 1234 1234 1234 1234 \n"
     ]
    },
    {
     "name": "stdout",
     "output_type": "stream",
     "text": [
      "**** **** **** 1234\n"
     ]
    }
   ],
   "source": [
    "A=(input('enter a card number'))\n",
    "ans = A.split()\n",
    "if len(ans)!=4:\n",
    "    print('invalid formate')\n",
    "A='**** **** **** '+ans[-1]\n",
    "print(A)\n",
    "    \n",
    "       \n"
   ]
  },
  {
   "cell_type": "markdown",
   "metadata": {},
   "source": [
    "### 11) : Checking if the two strings are Anagram or not.\n",
    "### s1 = decimal and s2 = medical are Anagram"
   ]
  },
  {
   "cell_type": "code",
   "execution_count": 99,
   "metadata": {},
   "outputs": [
    {
     "name": "stdin",
     "output_type": "stream",
     "text": [
      "enter a  string  abc\n",
      "enter a string bca\n"
     ]
    },
    {
     "name": "stdout",
     "output_type": "stream",
     "text": [
      "anagram\n"
     ]
    }
   ],
   "source": [
    "s1=(input('enter a  string '))\n",
    "s2=(input('enter a string'))\n",
    "s1 = s1.replace(\" \", \"\")\n",
    "s2 = s2.replace(\" \", \"\")\n",
    "if(sorted(s1) == sorted(s2)):\n",
    "    print(\"anagram\")\n",
    "else: \n",
    "        print(\"not anagram\")\n"
   ]
  },
  {
   "cell_type": "markdown",
   "metadata": {},
   "source": [
    "### 12) : Rearrange the given string. First lowercase then uppercase alphabets.\n",
    "### input : EHlsarwiwhtwMV\n",
    "### output : lsarwiwhtwEHMV"
   ]
  },
  {
   "cell_type": "code",
   "execution_count": 97,
   "metadata": {},
   "outputs": [
    {
     "name": "stdin",
     "output_type": "stream",
     "text": [
      "enter a string  ggg\n"
     ]
    },
    {
     "name": "stdout",
     "output_type": "stream",
     "text": [
      " ggg \n"
     ]
    }
   ],
   "source": [
    "s1=(input('enter a string '))\n",
    "lower=' '\n",
    "upper=' '\n",
    "for i in s1:\n",
    "    if i.islower():\n",
    "        lower+=i\n",
    "    else:\n",
    "        upper+=i\n",
    "print(lower+upper)\n"
   ]
  },
  {
   "cell_type": "code",
   "execution_count": null,
   "metadata": {},
   "outputs": [],
   "source": []
  }
 ],
 "metadata": {
  "kernelspec": {
   "display_name": "Python 3 (ipykernel)",
   "language": "python",
   "name": "python3"
  },
  "language_info": {
   "codemirror_mode": {
    "name": "ipython",
    "version": 3
   },
   "file_extension": ".py",
   "mimetype": "text/x-python",
   "name": "python",
   "nbconvert_exporter": "python",
   "pygments_lexer": "ipython3",
   "version": "3.12.7"
  },
  "vscode": {
   "interpreter": {
    "hash": "31f2aee4e71d21fbe5cf8b01ff0e069b9275f58929596ceb00d14d90e3e16cd6"
   }
  }
 },
 "nbformat": 4,
 "nbformat_minor": 4
}
