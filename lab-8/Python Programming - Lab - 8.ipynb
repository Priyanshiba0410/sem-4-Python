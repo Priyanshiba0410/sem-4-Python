{
 "cells": [
  {
   "cell_type": "markdown",
   "metadata": {},
   "source": [
    "<a href='https://www.darshan.ac.in/'> <img src='https://www.darshan.ac.in/Content/media/DU_Logo.svg' width=\"250\" height=\"300\"/></a>\n",
    "<pre>\n",
    "<center><b><h1>Python Programming - 2301CS404</b></center>\n",
    "<center><b><h1>Lab - 8</b></center> \n",
    "    <center><b><h1>Gohil Priyanshiba ||  23010101090 ||   17-01-2025</b></center>    \n",
    "\n",
    "<pre>"
   ]
  },
  {
   "cell_type": "markdown",
   "metadata": {},
   "source": [
    "# User Defined Function"
   ]
  },
  {
   "cell_type": "markdown",
   "metadata": {},
   "source": [
    "### 01) Write a function to calculate BMI given mass and height. (BMI = mass/h**2)"
   ]
  },
  {
   "cell_type": "code",
   "execution_count": 57,
   "metadata": {},
   "outputs": [
    {
     "name": "stdin",
     "output_type": "stream",
     "text": [
      "Enter Mass:  70\n",
      "Enter height:  1.75\n"
     ]
    },
    {
     "data": {
      "text/plain": [
       "22.857142857142858"
      ]
     },
     "execution_count": 57,
     "metadata": {},
     "output_type": "execute_result"
    }
   ],
   "source": [
    "## mass = float1.75\n",
    "(input(\"Enter Mass: \"))\n",
    "h = float(input(\"Enter height: \"))\n",
    "\n",
    "def BMI(mass , h):\n",
    "    return mass/h**2\n",
    "BMI(mass  ,  h )\n"
   ]
  },
  {
   "cell_type": "markdown",
   "metadata": {},
   "source": [
    "### 02) Write a function that add first n numbers."
   ]
  },
  {
   "cell_type": "code",
   "execution_count": 59,
   "metadata": {},
   "outputs": [
    {
     "name": "stdin",
     "output_type": "stream",
     "text": [
      "Enter: n= 4\n"
     ]
    },
    {
     "data": {
      "text/plain": [
       "10"
      ]
     },
     "execution_count": 59,
     "metadata": {},
     "output_type": "execute_result"
    }
   ],
   "source": [
    "def add(n):\n",
    "    ans = 0\n",
    "    for i in range(0,n+1):\n",
    "        ans = ans + i\n",
    "    return ans\n",
    "\n",
    "n = int(input(\"Enter: n=\"))\n",
    "add(n)"
   ]
  },
  {
   "cell_type": "markdown",
   "metadata": {},
   "source": [
    "### 03) Write a function that returns 1 if the given number is Prime or 0 otherwise."
   ]
  },
  {
   "cell_type": "code",
   "execution_count": 61,
   "metadata": {},
   "outputs": [
    {
     "name": "stdin",
     "output_type": "stream",
     "text": [
      "Enter number:  8\n"
     ]
    },
    {
     "data": {
      "text/plain": [
       "0"
      ]
     },
     "execution_count": 61,
     "metadata": {},
     "output_type": "execute_result"
    }
   ],
   "source": [
    "def is_prime(n):\n",
    "     for i in range(2,n):\n",
    "        if n % i == 0:\n",
    "            return 0\n",
    "     return 1\n",
    "n = int(input(\"Enter number: \"))\n",
    "is_prime(n)"
   ]
  },
  {
   "cell_type": "markdown",
   "metadata": {},
   "source": [
    "### 04) Write a function that returns the list of Prime numbers between given two numbers."
   ]
  },
  {
   "cell_type": "code",
   "execution_count": 71,
   "metadata": {},
   "outputs": [
    {
     "name": "stdin",
     "output_type": "stream",
     "text": [
      "Enter starting number:  2\n",
      "Enter last number:  8\n"
     ]
    },
    {
     "name": "stdout",
     "output_type": "stream",
     "text": [
      "[3, 5, 7]\n"
     ]
    }
   ],
   "source": [
    "def prime_range(start,end):\n",
    "    l1 = []\n",
    "    count=0\n",
    "    for n in range(start+1, end):\n",
    "        count=0\n",
    "        if n > 1:\n",
    "            for i in range(1, n+1):\n",
    "                if n % i == 0:\n",
    "                    count+=1\n",
    "            if count==2:\n",
    "                l1.append(n);           \n",
    "    return l1\n",
    "\n",
    "start = int(input(\"Enter starting number: \"))\n",
    "end = int(input(\"Enter last number: \"))\n",
    "print(prime_range(start, end))"
   ]
  },
  {
   "cell_type": "markdown",
   "metadata": {},
   "source": [
    "### 05) Write a function that returns True if the given string is Palindrome or False otherwise."
   ]
  },
  {
   "cell_type": "code",
   "execution_count": 73,
   "metadata": {},
   "outputs": [
    {
     "name": "stdin",
     "output_type": "stream",
     "text": [
      "Enter a string:  121\n"
     ]
    },
    {
     "name": "stdout",
     "output_type": "stream",
     "text": [
      "True\n"
     ]
    }
   ],
   "source": [
    "def is_palindrome(s):\n",
    "     return s == s[::-1]\n",
    "\n",
    "s = input(\"Enter a string: \")\n",
    "print(is_palindrome(s))"
   ]
  },
  {
   "cell_type": "markdown",
   "metadata": {},
   "source": [
    "### 06) Write a function that returns the sum of all the elements of the list."
   ]
  },
  {
   "cell_type": "code",
   "execution_count": 81,
   "metadata": {},
   "outputs": [
    {
     "name": "stdin",
     "output_type": "stream",
     "text": [
      "Enter numbers separated by space:  1 2 3 4 \n"
     ]
    },
    {
     "name": "stdout",
     "output_type": "stream",
     "text": [
      "10\n"
     ]
    }
   ],
   "source": [
    "def sum_of_list(l1):\n",
    "    return sum(l1)\n",
    "\n",
    "l1 = list(map(int, input(\"Enter numbers separated by space: \").split()))\n",
    "print(sum_of_list(l1))"
   ]
  },
  {
   "cell_type": "markdown",
   "metadata": {},
   "source": [
    "### 07) Write a function to calculate the sum of the first element of each tuples inside the list."
   ]
  },
  {
   "cell_type": "code",
   "execution_count": 83,
   "metadata": {},
   "outputs": [
    {
     "name": "stdout",
     "output_type": "stream",
     "text": [
      "8\n"
     ]
    }
   ],
   "source": [
    "def sum_first_elements(l1):\n",
    "    return sum(t[0] for t in l1)\n",
    "\n",
    "l1 = [(1, 2), (1, 4), (4, 6),(2,8)]\n",
    "print(sum_first_elements(l1))"
   ]
  },
  {
   "cell_type": "markdown",
   "metadata": {},
   "source": [
    "### 08) Write a recursive function to find nth term of Fibonacci Series."
   ]
  },
  {
   "cell_type": "code",
   "execution_count": 85,
   "metadata": {},
   "outputs": [
    {
     "name": "stdin",
     "output_type": "stream",
     "text": [
      "Enter the term number:  4\n"
     ]
    },
    {
     "name": "stdout",
     "output_type": "stream",
     "text": [
      "3\n"
     ]
    }
   ],
   "source": [
    "def fibonacci(n):\n",
    "    if n <= 1:\n",
    "        return n\n",
    "    else:\n",
    "        return fibonacci(n-1) + fibonacci(n-2)\n",
    "\n",
    "n = int(input(\"Enter the term number: \"))\n",
    "print(fibonacci(n))"
   ]
  },
  {
   "cell_type": "markdown",
   "metadata": {},
   "source": [
    "### 09) Write a function to get the name of the student based on the given rollno.\n",
    "#### Example: Given dict1 = {101:'Ajay', 102:'Rahul', 103:'Jay', 104:'Pooja'} find name of student whose rollno = 103"
   ]
  },
  {
   "cell_type": "code",
   "execution_count": 87,
   "metadata": {},
   "outputs": [
    {
     "name": "stdin",
     "output_type": "stream",
     "text": [
      "Enter roll number:  102\n"
     ]
    },
    {
     "name": "stdout",
     "output_type": "stream",
     "text": [
      "Rahul\n"
     ]
    }
   ],
   "source": [
    "def get_student_name(rollno):\n",
    "    students = { 101:'Ajay', 102:'Rahul', 103:'Jay', 104:'Pooja'}\n",
    "    return students.get(rollno, \"Student not found\")\n",
    "\n",
    "rollno = int(input(\"Enter roll number: \"))\n",
    "print(get_student_name(rollno))\n"
   ]
  },
  {
   "cell_type": "markdown",
   "metadata": {},
   "source": [
    "### 10) Write a function to get the sum of the scores ending with zero.\n",
    "#### Example : scores = [200, 456, 300, 100, 234, 678] \n",
    "#### Ans = 200 + 300 + 100 = 600"
   ]
  },
  {
   "cell_type": "code",
   "execution_count": 89,
   "metadata": {},
   "outputs": [
    {
     "name": "stdout",
     "output_type": "stream",
     "text": [
      "600\n"
     ]
    }
   ],
   "source": [
    "def sum_of_scores(scores):\n",
    "    return sum(score for score in scores if score % 10 == 0)\n",
    "\n",
    "scores = [200, 456, 300, 100, 234, 678]\n",
    "print(sum_of_scores(scores))"
   ]
  },
  {
   "cell_type": "markdown",
   "metadata": {},
   "source": [
    "### 11) Write a function to invert a given Dictionary.\n",
    "#### hint: keys to values & values to keys\n",
    "#### Before : {'a': 10, 'b':20, 'c':30, 'd':40}\n",
    "#### After : {10:'a', 20:'b', 30:'c', 40:'d'}"
   ]
  },
  {
   "cell_type": "code",
   "execution_count": 91,
   "metadata": {},
   "outputs": [
    {
     "name": "stdout",
     "output_type": "stream",
     "text": [
      "{10: 'a', 20: 'b', 30: 'c', 40: 'd'}\n"
     ]
    }
   ],
   "source": [
    "def invert_dict(d):\n",
    "    return {v: k for k, v in d.items()}\n",
    "\n",
    "d = {'a': 10, 'b': 20, 'c': 30, 'd': 40}\n",
    "print(invert_dict(d))"
   ]
  },
  {
   "cell_type": "markdown",
   "metadata": {},
   "source": [
    "### 12) Write a function to check whether the given string is Pangram or not.\n",
    "#### hint: Pangram is a string containing all the characters a-z atlest once.\n",
    "#### \"the quick brown fox jumps over the lazy dog\" is a Pangram string."
   ]
  },
  {
   "cell_type": "code",
   "execution_count": 93,
   "metadata": {},
   "outputs": [
    {
     "name": "stdout",
     "output_type": "stream",
     "text": [
      "The string is a Pangram.\n"
     ]
    }
   ],
   "source": [
    "def is_pangram(s):\n",
    "    s = s.lower()\n",
    "    alphabet = set('abcdefghijklmnopqrstuvwxyz')\n",
    "    s = set(s)\n",
    "    return alphabet.issubset(s)\n",
    "    \n",
    "string = \"the quick brown fox jumps over the lazy dog\"\n",
    "if is_pangram(string):\n",
    "    print(\"The string is a Pangram.\")\n",
    "else:\n",
    "    print(\"The string is not a Pangram.\")"
   ]
  },
  {
   "cell_type": "markdown",
   "metadata": {},
   "source": [
    "### 13) Write a function that returns the number of uppercase and lowercase letters in the given string. \n",
    "#### example : Input : s1 = AbcDEfgh ,Ouptput : no_upper = 3, no_lower = 5"
   ]
  },
  {
   "cell_type": "code",
   "execution_count": 95,
   "metadata": {},
   "outputs": [
    {
     "name": "stdout",
     "output_type": "stream",
     "text": [
      "no_upper = 3, no_lower = 5\n"
     ]
    }
   ],
   "source": [
    "def count_upper_lower(s):\n",
    "    no_upper = 0\n",
    "    no_lower = 0\n",
    "    \n",
    "    for char in s:\n",
    "        if char.isupper():  \n",
    "            no_upper += 1\n",
    "        elif char.islower(): \n",
    "            no_lower += 1\n",
    "    \n",
    "    return no_upper, no_lower\n",
    "\n",
    "s1 = \"AbcDEfgh\"\n",
    "no_upper, no_lower = count_upper_lower(s1)\n",
    "print(f\"no_upper = {no_upper}, no_lower = {no_lower}\")\n"
   ]
  },
  {
   "cell_type": "markdown",
   "metadata": {},
   "source": [
    "### 14) Write a lambda function to get smallest number from the given two numbers."
   ]
  },
  {
   "cell_type": "code",
   "execution_count": 103,
   "metadata": {},
   "outputs": [
    {
     "name": "stdin",
     "output_type": "stream",
     "text": [
      "Enter first number:  5\n",
      "Enter second number:  2\n"
     ]
    },
    {
     "name": "stdout",
     "output_type": "stream",
     "text": [
      "2\n"
     ]
    }
   ],
   "source": [
    "smallest = lambda a, b: a if a < b else b\n",
    "\n",
    "n1 = int(input(\"Enter first number: \"))\n",
    "n2 = int(input(\"Enter second number: \"))\n",
    "print(smallest(n1, n2))"
   ]
  },
  {
   "cell_type": "markdown",
   "metadata": {},
   "source": [
    "### 15) For the given list of names of students, extract the names having more that 7 characters. Use filter()."
   ]
  },
  {
   "cell_type": "code",
   "execution_count": 105,
   "metadata": {},
   "outputs": [
    {
     "name": "stdout",
     "output_type": "stream",
     "text": [
      "['alexzander']\n"
     ]
    }
   ],
   "source": [
    "students = [\"Aryan\", \"Jay\", \"rahul\", \"prit\", \"rohan\", \"dhruvin\", \"alexzander\"]\n",
    "names = list(filter(lambda name: len(name) > 7, students))\n",
    "\n",
    "print(names)\n"
   ]
  },
  {
   "cell_type": "markdown",
   "metadata": {},
   "source": [
    "### 16) For the given list of names of students, convert the first letter of all the names into uppercase. use map()."
   ]
  },
  {
   "cell_type": "code",
   "execution_count": 111,
   "metadata": {},
   "outputs": [
    {
     "name": "stdout",
     "output_type": "stream",
     "text": [
      "['John', 'Mary', 'Peter', 'Alice']\n"
     ]
    }
   ],
   "source": [
    "student_names = [\"john\", \"mary\", \"peter\", \"alice\"]\n",
    "capitalize_first_letter = lambda name: name.capitalize()\n",
    "capitalized_names = list(map(capitalize_first_letter, student_names))\n",
    "print(capitalized_names)\n"
   ]
  },
  {
   "cell_type": "markdown",
   "metadata": {},
   "source": [
    "### 17) Write udfs to call the functions with following types of arguments:\n",
    "1. Positional Arguments\n",
    "2. Keyword Arguments\n",
    "3. Default Arguments\n",
    "4. Variable Legngth Positional(*args) & variable length Keyword Arguments (**kwargs)\n",
    "5. Keyword-Only & Positional Only Arguments"
   ]
  },
  {
   "cell_type": "code",
   "execution_count": 115,
   "metadata": {},
   "outputs": [
    {
     "name": "stdout",
     "output_type": "stream",
     "text": [
      "Name: Alice, Age: 25\n",
      "Argument 1: Hello, Argument 2: World\n",
      "Argument 1: Hello, Argument 2: World\n",
      "Argument 1: Hello, Argument 2: Everyone\n",
      "Argument 1: Hello, Argument 2: World\n",
      "Argument 1: Hello, Argument 2: Everyone\n",
      "Arguments: Hello, World, and, Everyone\n",
      "Arguments: arg1: Hello, arg2: World, arg3: Everyone\n",
      "Argument 1: Hello, Argument 2: World\n",
      "Argument 1: Hello, Argument 2: World\n"
     ]
    }
   ],
   "source": [
    "def positional_example(name, age):\n",
    "    print(f\"Name: {name}, Age: {age}\")\n",
    "positional_example(\"Alice\", 25)\n",
    "\n",
    "\n",
    "def keyword_example(arg1, arg2):\n",
    "    return f\"Argument 1: {arg1}, Argument 2: {arg2}\"\n",
    "print(keyword_example(arg1=\"Hello\", arg2=\"World\"))\n",
    "\n",
    "\n",
    "def default_example(arg1, arg2=\"World\"):\n",
    "    return f\"Argument 1: {arg1}, Argument 2: {arg2}\"\n",
    "print(default_example(\"Hello\"))\n",
    "print(default_example(\"Hello\", \"Everyone\"))\n",
    "\n",
    "\n",
    "def default_example(arg1, arg2=\"World\"):\n",
    "    return f\"Argument 1: {arg1}, Argument 2: {arg2}\"\n",
    "print(default_example(\"Hello\"))\n",
    "print(default_example(\"Hello\", \"Everyone\"))\n",
    "\n",
    "\n",
    "def var_positional_example(*args):\n",
    "    return f\"Arguments: {', '.join(args)}\"\n",
    "print(var_positional_example(\"Hello\", \"World\", \"and\", \"Everyone\"))\n",
    "\n",
    "def var_keyword_example(**kwargs):\n",
    "    return f\"Arguments: {', '.join([f'{k}: {v}' for k, v in kwargs.items()])}\"\n",
    "print(var_keyword_example(arg1=\"Hello\", arg2=\"World\", arg3=\"Everyone\"))\n",
    "\n",
    "\n",
    "def keyword_only_example(*, arg1, arg2):\n",
    "    return f\"Argument 1: {arg1}, Argument 2: {arg2}\"\n",
    "print(keyword_only_example(arg1=\"Hello\", arg2=\"World\"))\n",
    "\n",
    "def positional_only_example(arg1, arg2, /):\n",
    "    return f\"Argument 1: {arg1}, Argument 2: {arg2}\"\n",
    "\n",
    "print(positional_only_example(\"Hello\", \"World\"))\n"
   ]
  },
  {
   "cell_type": "code",
   "execution_count": null,
   "metadata": {},
   "outputs": [],
   "source": []
  }
 ],
 "metadata": {
  "kernelspec": {
   "display_name": "Python 3 (ipykernel)",
   "language": "python",
   "name": "python3"
  },
  "language_info": {
   "codemirror_mode": {
    "name": "ipython",
    "version": 3
   },
   "file_extension": ".py",
   "mimetype": "text/x-python",
   "name": "python",
   "nbconvert_exporter": "python",
   "pygments_lexer": "ipython3",
   "version": "3.12.7"
  }
 },
 "nbformat": 4,
 "nbformat_minor": 4
}
