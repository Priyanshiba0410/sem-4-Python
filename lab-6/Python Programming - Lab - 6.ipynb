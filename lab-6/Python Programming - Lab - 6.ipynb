{
 "cells": [
  {
   "attachments": {},
   "cell_type": "markdown",
   "metadata": {},
   "source": [
    "<a href='https://www.darshan.ac.in/'> <img src='https://www.darshan.ac.in/Content/media/DU_Logo.svg' width=\"250\" height=\"300\"/></a>\n",
    "<pre>\n",
    "<center><b><h1>Python Programming - 2301CS404</b></center>\n",
    "    <center><b><h1>Priyanshiba || 23010101090 || 3-1-25</b></center>\n",
    "\n",
    "<center><b><h1>Lab - 6</b></center>    \n",
    "<pre>"
   ]
  },
  {
   "cell_type": "markdown",
   "metadata": {},
   "source": [
    "# Tuple"
   ]
  },
  {
   "cell_type": "markdown",
   "metadata": {},
   "source": [
    "### 01) WAP to find sum of tuple elements."
   ]
  },
  {
   "cell_type": "code",
   "execution_count": 88,
   "metadata": {},
   "outputs": [
    {
     "name": "stdout",
     "output_type": "stream",
     "text": [
      "Sum of tuple elements: 71\n"
     ]
    }
   ],
   "source": [
    "t1 = (10, 4, 25, 1, 6, 8, 17)\n",
    "sum = 0\n",
    "for n in t1:\n",
    "    sum+= n\n",
    "print(\"Sum of tuple elements:\", sum)"
   ]
  },
  {
   "cell_type": "markdown",
   "metadata": {},
   "source": [
    "### 02) WAP to find Maximum and Minimum K elements in a given tuple."
   ]
  },
  {
   "cell_type": "code",
   "execution_count": 108,
   "metadata": {},
   "outputs": [
    {
     "name": "stdout",
     "output_type": "stream",
     "text": [
      "[1, 2, 3, 4, 11, 25, 32, 44, 55]\n"
     ]
    },
    {
     "name": "stdin",
     "output_type": "stream",
     "text": [
      "enter no 4\n"
     ]
    },
    {
     "name": "stdout",
     "output_type": "stream",
     "text": [
      "[25, 32, 44, 55]\n",
      "[11, 25, 32, 44, 55]\n"
     ]
    }
   ],
   "source": [
    "a=(1,2,3,4,55,44,11,25,32)\n",
    "b=sorted(a)\n",
    "print(b)\n",
    "k=int(input('enter no'))\n",
    "max=b[-k:]\n",
    "min=b[k:]\n",
    "print(max)\n",
    "print(min)\n"
   ]
  },
  {
   "cell_type": "markdown",
   "metadata": {},
   "source": [
    "### 03) WAP to find tuples which have all elements divisible by K from a list of tuples."
   ]
  },
  {
   "cell_type": "code",
   "execution_count": 9,
   "metadata": {},
   "outputs": [
    {
     "name": "stdin",
     "output_type": "stream",
     "text": [
      "enter k 2\n"
     ]
    },
    {
     "data": {
      "text/plain": [
       "[(2, 4, 6)]"
      ]
     },
     "execution_count": 9,
     "metadata": {},
     "output_type": "execute_result"
    }
   ],
   "source": [
    "l=[(1,2,3),(2,4,6)]\n",
    "\n",
    "k=int(input(\"enter k\"))\n",
    "ans=[tup for tup in l if all(i%k==0 for i in tup)]\n",
    "ans\n"
   ]
  },
  {
   "cell_type": "markdown",
   "metadata": {},
   "source": [
    "### 04) WAP to create a list of tuples from given list having number and its cube in each tuple."
   ]
  },
  {
   "cell_type": "code",
   "execution_count": 86,
   "metadata": {},
   "outputs": [
    {
     "name": "stdout",
     "output_type": "stream",
     "text": [
      "cube of tuple is [(1, 1), (2, 8), (3, 27), (2, 8), (4, 64), (5, 125), (4, 64), (6, 216), (8, 512)]\n"
     ]
    }
   ],
   "source": [
    "l=[1,2,3,2,4,5,4,6,8]\n",
    "a=[(n,n**3)for n in l ]\n",
    "print('cube of tuple is',a)"
   ]
  },
  {
   "cell_type": "markdown",
   "metadata": {},
   "source": [
    "### 05) WAP to find tuples with all positive elements from the given list of tuples."
   ]
  },
  {
   "cell_type": "code",
   "execution_count": 17,
   "metadata": {},
   "outputs": [
    {
     "name": "stdout",
     "output_type": "stream",
     "text": [
      "(2, 4, 5)\n"
     ]
    }
   ],
   "source": [
    "l=[(1,2,-3,),(2,4,5),(4,-6,8)]\n",
    "for i in l:\n",
    "    if all(x>=0 for x in i):\n",
    "        print(i)"
   ]
  },
  {
   "cell_type": "markdown",
   "metadata": {},
   "source": [
    "### 06) WAP to add tuple to list and vice – versa."
   ]
  },
  {
   "cell_type": "code",
   "execution_count": 21,
   "metadata": {},
   "outputs": [
    {
     "name": "stdout",
     "output_type": "stream",
     "text": [
      "new list  [1, 2, 3, 4, 5, 6, 7, 8, 4, 2]\n",
      "new tupple (1, 2, 3, 4, 5, 6, 7, 8, 4, 2, 6, 7, 8, 4, 2)\n"
     ]
    }
   ],
   "source": [
    "l1=[1,2,3,4,5]\n",
    "t1=(6,7,8,4,2)\n",
    "l1.extend(t1)\n",
    "print('new list ',l1)\n",
    "t2=tuple(l1)+t1\n",
    "print('new tupple',t2)"
   ]
  },
  {
   "cell_type": "markdown",
   "metadata": {},
   "source": [
    "### 07) WAP to remove tuples of length K."
   ]
  },
  {
   "cell_type": "code",
   "execution_count": 33,
   "metadata": {},
   "outputs": [
    {
     "name": "stdout",
     "output_type": "stream",
     "text": [
      "sorted list is [(4, 2, 7)]\n"
     ]
    }
   ],
   "source": [
    "l=[(1,2,3,),(4,2,7),(1,6,2)]\n",
    "k=3\n",
    "for i in l:\n",
    "    if(len(i)==k):\n",
    "        l.remove(i)\n",
    "print(\"sorted list is\",l)"
   ]
  },
  {
   "cell_type": "markdown",
   "metadata": {},
   "source": [
    "### 08) WAP to remove duplicates from tuple."
   ]
  },
  {
   "cell_type": "code",
   "execution_count": 37,
   "metadata": {},
   "outputs": [
    {
     "name": "stdout",
     "output_type": "stream",
     "text": [
      "original tuple is (1, 2, 3, 4, 5, 6, 7, 8, 9, 10)\n"
     ]
    }
   ],
   "source": [
    "t1=(1,2,3,4,5,6,7,8,5,4,2,4,9,10)\n",
    "a=set(t1)\n",
    "t1=tuple(a)\n",
    "print('original tuple is',t1)"
   ]
  },
  {
   "cell_type": "markdown",
   "metadata": {},
   "source": [
    "### 09) WAP to multiply adjacent elements of a tuple and print that resultant tuple."
   ]
  },
  {
   "cell_type": "code",
   "execution_count": 60,
   "metadata": {},
   "outputs": [
    {
     "name": "stdout",
     "output_type": "stream",
     "text": [
      "(2, 6, 12, 20, 30, 42, 56)\n"
     ]
    }
   ],
   "source": [
    "t1 = (1,2,3,4,5,6,7,8)\n",
    "result=tuple(t1[i]*t1[i+1] for i in range(len(t1)-1))\n",
    "print(result)\n"
   ]
  },
  {
   "cell_type": "markdown",
   "metadata": {},
   "source": [
    "### 10) WAP to test if the given tuple is distinct or not."
   ]
  },
  {
   "cell_type": "code",
   "execution_count": 66,
   "metadata": {},
   "outputs": [
    {
     "name": "stdout",
     "output_type": "stream",
     "text": [
      " not distinct\n"
     ]
    }
   ],
   "source": [
    "t1=(1,2,3,4,5,6,7,8,19,10)\n",
    "myset=set(t1)\n",
    "if(len(myset)!=len(t1)):\n",
    "    print(' not distinct')\n",
    "else:\n",
    "    print('distinct')"
   ]
  }
 ],
 "metadata": {
  "kernelspec": {
   "display_name": "Python 3 (ipykernel)",
   "language": "python",
   "name": "python3"
  },
  "language_info": {
   "codemirror_mode": {
    "name": "ipython",
    "version": 3
   },
   "file_extension": ".py",
   "mimetype": "text/x-python",
   "name": "python",
   "nbconvert_exporter": "python",
   "pygments_lexer": "ipython3",
   "version": "3.12.7"
  }
 },
 "nbformat": 4,
 "nbformat_minor": 4
}
