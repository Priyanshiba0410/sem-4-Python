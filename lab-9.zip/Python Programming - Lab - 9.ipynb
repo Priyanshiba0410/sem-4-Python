{
 "cells": [
  {
   "cell_type": "markdown",
   "metadata": {},
   "source": [
    "<a href='https://www.darshan.ac.in/'> <img src='https://www.darshan.ac.in/Content/media/DU_Logo.svg' width=\"250\" height=\"300\"/></a>\n",
    "<pre>\n",
    "<center><b><h1>Python Programming - 2301CS404</b></center>\n",
    "    <center><b><h1>Priyanshiba gohil ||23010101090 || 24-01-2025</b></center>    \n",
    "\n",
    "<center><b><h1>Lab - 9</b></center>    \n",
    "<pre>"
   ]
  },
  {
   "cell_type": "markdown",
   "metadata": {},
   "source": [
    "# File I/O"
   ]
  },
  {
   "cell_type": "markdown",
   "metadata": {},
   "source": [
    "### 01) WAP to read and display the contents of a text file. (also try to open the file in some other directory) \n",
    "#### - in the form of a string\n",
    "#### - line by line\n",
    "#### - in the form of a list"
   ]
  },
  {
   "cell_type": "code",
   "execution_count": 64,
   "metadata": {},
   "outputs": [
    {
     "name": "stdout",
     "output_type": "stream",
     "text": [
      "hiiii\n",
      "hellooo\n",
      "how are you\n",
      "\n"
     ]
    }
   ],
   "source": [
    "fp = open(\"file.txt\",\"r\")\n",
    "print(fp.read())\n",
    "fp.close()"
   ]
  },
  {
   "cell_type": "code",
   "execution_count": 61,
   "metadata": {},
   "outputs": [
    {
     "name": "stdout",
     "output_type": "stream",
     "text": [
      "hiiii\n",
      "\n"
     ]
    }
   ],
   "source": [
    "fp = open(\"file.txt\",\"r\")\n",
    "print(fp.readline())\n",
    "fp.close()"
   ]
  },
  {
   "cell_type": "code",
   "execution_count": 129,
   "metadata": {},
   "outputs": [],
   "source": [
    "fp = open(\"file.txt\",\"r\")\n",
    "print(fp.readlines())\n",
    "fp.close()"
   ]
  },
  {
   "cell_type": "markdown",
   "metadata": {},
   "source": [
    "### 02) WAP to create file named \"new.txt\" only if it doesn't exist."
   ]
  },
  {
   "cell_type": "code",
   "execution_count": 133,
   "metadata": {},
   "outputs": [],
   "source": [
    "fp=open(\"new.txt\",\"x\")\n",
    "fp.close()"
   ]
  },
  {
   "cell_type": "markdown",
   "metadata": {},
   "source": [
    "### 03) WAP to read first 5 lines from the text file."
   ]
  },
  {
   "cell_type": "code",
   "execution_count": 160,
   "metadata": {},
   "outputs": [
    {
     "name": "stdout",
     "output_type": "stream",
     "text": [
      "hiiii\n",
      "\n",
      "hellooo\n",
      "how are you\n",
      "1234\n",
      "563256\n"
     ]
    }
   ],
   "source": [
    "fp=open(\"file.txt\",\"r\")\n",
    "print(fp.read(5))\n",
    "for i in range(5):\n",
    "        line = fp.readline()\n",
    "        if line:\n",
    "            print(line.strip())\n",
    "fp.close()"
   ]
  },
  {
   "cell_type": "markdown",
   "metadata": {},
   "source": [
    "### 04) WAP to find the longest word(s) in a file"
   ]
  },
  {
   "cell_type": "code",
   "execution_count": 174,
   "metadata": {},
   "outputs": [
    {
     "name": "stdout",
     "output_type": "stream",
     "text": [
      "7\n"
     ]
    }
   ],
   "source": [
    "fp=open(\"file.txt\",\"r\")\n",
    "word = fp.read().split()\n",
    "max_len=max(len(word)for word in word)\n",
    "print(max_len)\n",
    "fp.close()"
   ]
  },
  {
   "cell_type": "markdown",
   "metadata": {},
   "source": [
    "### 05) WAP to count the no. of lines, words and characters in a given text file."
   ]
  },
  {
   "cell_type": "code",
   "execution_count": 180,
   "metadata": {},
   "outputs": [
    {
     "name": "stdout",
     "output_type": "stream",
     "text": [
      "Number of lines: 6\n",
      "Number of words: 8\n",
      "Number of characters: 45\n"
     ]
    }
   ],
   "source": [
    "fp=open(\"file.txt\",\"r\")\n",
    "line_count = 0\n",
    "word_count = 0\n",
    "char_count = 0\n",
    "for i in fp:\n",
    "        line_count += 1\n",
    "        words = i.split()\n",
    "        word_count += len(words)\n",
    "        char_count += len(i)\n",
    "print(f\"Number of lines: {line_count}\")\n",
    "print(f\"Number of words: {word_count}\")\n",
    "print(f\"Number of characters: {char_count}\")\n",
    "fp.close()"
   ]
  },
  {
   "cell_type": "markdown",
   "metadata": {},
   "source": [
    "### 06) WAP to copy the content of a file to the another file."
   ]
  },
  {
   "cell_type": "code",
   "execution_count": 186,
   "metadata": {},
   "outputs": [],
   "source": [
    "fp=open(\"file.txt\",\"r\")\n",
    "line = fp.read()\n",
    "fp1=open(\"new.txt\",\"w\")\n",
    "fp1.write(line)\n",
    "fp.close()\n",
    "fp1.close()"
   ]
  },
  {
   "cell_type": "markdown",
   "metadata": {},
   "source": [
    "### 07) WAP to find the size of the text file. "
   ]
  },
  {
   "cell_type": "code",
   "execution_count": 206,
   "metadata": {},
   "outputs": [
    {
     "name": "stdout",
     "output_type": "stream",
     "text": [
      "45\n"
     ]
    }
   ],
   "source": [
    "fp=open(\"file.txt\",\"r\")\n",
    "size = len(fp.read())\n",
    "print(size)\n",
    "fp.close()"
   ]
  },
  {
   "cell_type": "markdown",
   "metadata": {},
   "source": [
    "### 08) WAP to create an UDF named frequency to count occurances of the specific word in a given text file."
   ]
  },
  {
   "cell_type": "code",
   "execution_count": 235,
   "metadata": {},
   "outputs": [
    {
     "name": "stdout",
     "output_type": "stream",
     "text": [
      "The word '1234' occurs 1 times in the file.\n"
     ]
    }
   ],
   "source": [
    "def frequency(fp, word):\n",
    "    with open(fp, 'r') as file:\n",
    "        content = file.read()\n",
    "        wl = content.split()\n",
    "        wc = wl.count(word)\n",
    "    return wc\n",
    "fp = \"file.txt\"\n",
    "word = '1234'\n",
    "count = frequency(fp, word)\n",
    "print(f\"The word '{word}' occurs {count} times in the file.\")"
   ]
  },
  {
   "cell_type": "markdown",
   "metadata": {},
   "source": [
    "### 09) WAP to get the score of five subjects from the user, store them in a file. Fetch those marks and find the highest score."
   ]
  },
  {
   "cell_type": "code",
   "execution_count": 251,
   "metadata": {},
   "outputs": [
    {
     "name": "stdin",
     "output_type": "stream",
     "text": [
      "Enter the score for subject 1:  1\n",
      "Enter the score for subject 2:  2\n",
      "Enter the score for subject 3:  41\n",
      "Enter the score for subject 4:  5\n",
      "Enter the score for subject 5:  7\n"
     ]
    },
    {
     "name": "stdout",
     "output_type": "stream",
     "text": [
      "Scores have been stored in the file.\n",
      "The highest score is: 41\n"
     ]
    }
   ],
   "source": [
    "fp = \"file.txt\"\n",
    "with open(fp, 'w') as file:\n",
    "    for i in range(1, 6):\n",
    "        score = input(f\"Enter the score for subject {i}: \")\n",
    "        file.write(score + '\\n')\n",
    "print(\"Scores have been stored in the file.\")\n",
    "scores = []\n",
    "with open(fp, 'r') as file:\n",
    "    for line in file:\n",
    "        scores.append(int(line.strip()))  \n",
    "highest_score = max(scores)\n",
    "print(f\"The highest score is: {highest_score}\")\n"
   ]
  },
  {
   "cell_type": "markdown",
   "metadata": {},
   "source": [
    "### 10) WAP to write first 100 prime numbers to a file named primenumbers.txt \n",
    "(Note: each number should be in new line)"
   ]
  },
  {
   "cell_type": "code",
   "execution_count": 253,
   "metadata": {},
   "outputs": [],
   "source": [
    "def Prime(n):\n",
    "    if n <= 1:\n",
    "        return False\n",
    "    for i in range(2,n):\n",
    "        if n % i == 0:\n",
    "            return False\n",
    "    return True\n",
    "primeNumbers = []\n",
    "number = 2\n",
    "while len(primeNumbers) < 100:\n",
    "    if Prime(number):\n",
    "        primeNumbers.append(number)\n",
    "    number += 1\n",
    "fp10=open(\"primenumbers.txt\", \"w\")\n",
    "for prime in primeNumbers:\n",
    "    fp10.write(f\"{prime}\\n\")\n",
    "fp10.close()"
   ]
  },
  {
   "cell_type": "markdown",
   "metadata": {},
   "source": [
    "### 11) WAP to merge two files and write it in a new file."
   ]
  },
  {
   "cell_type": "code",
   "execution_count": 272,
   "metadata": {},
   "outputs": [
    {
     "name": "stdout",
     "output_type": "stream",
     "text": [
      "Files merged successfully into 'Merge.txt'\n"
     ]
    }
   ],
   "source": [
    "\n",
    "fl1=open(\"file.txt\", \"r\")\n",
    "content1 = fl1.read()\n",
    "fl2=open(\"new.txt\", \"r\")\n",
    "content2 = fl2.read()\n",
    "mf=open(\"Merge.txt\", \"w\")\n",
    "mf.write(content1)\n",
    "mf.write(\"\\n\")\n",
    "mf.write(content2)\n",
    "fl1.close()\n",
    "fl2.close()\n",
    "mf.close()\n",
    "print(\"Files merged successfully into 'Merge.txt'\")"
   ]
  },
  {
   "cell_type": "markdown",
   "metadata": {},
   "source": [
    "### 12) WAP to replace word1 by word2 of a text file. Write the updated data to new file."
   ]
  },
  {
   "cell_type": "code",
   "execution_count": 266,
   "metadata": {},
   "outputs": [
    {
     "name": "stdin",
     "output_type": "stream",
     "text": [
      "Enter the word to be replaced:  1234\n",
      "Enter the word to replace with:  heyaaa\n"
     ]
    }
   ],
   "source": [
    "file_name = \"file.txt\"\n",
    "new_file_name = \"new.txt\"\n",
    "word1 = input(\"Enter the word to be replaced: \")\n",
    "word2 = input(\"Enter the word to replace with: \")\n",
    "fp12=open(file_name, \"r\")\n",
    "content12 = fp12.read()\n",
    "updated_content = content.replace(word1, word2)\n",
    "fp12a=open(new_file_name, \"w\")\n",
    "fp12a.write(updated_content)\n",
    "fp12.close()\n",
    "fp12a.close()"
   ]
  },
  {
   "cell_type": "markdown",
   "metadata": {},
   "source": [
    "### 13) Demonstrate tell() and seek() for all the cases(seek from beginning-end-current position) taking a suitable example of your choice."
   ]
  },
  {
   "cell_type": "code",
   "execution_count": null,
   "metadata": {},
   "outputs": [],
   "source": [
    "file_path = 'example.txt'\n",
    "\n",
    "with open(file_path, 'w') as file:\n",
    "    file.write(\"Hello\\n\")\n",
    "    file.write(\"World\\n\")\n",
    "    file.write(\"This is a test file.\\n\")\n",
    "\n",
    "# Open the file in read mode\n",
    "with open(file_path, 'r') as file:\n",
    "    # Read and display initial content\n",
    "    print(\"Initial content:\")\n",
    "    print(file.read())\n",
    "    \n",
    "    # Demonstrating tell() and seek()\n",
    "    file.seek(0)  # Move to the beginning of the file\n",
    "    print(\"\\nAfter seek(0):\")\n",
    "    print(f\"Current file pointer position: {file.tell()}\")\n",
    "    print(file.read())\n",
    "    \n",
    "    file.seek(6)  # Move 6 characters from the beginning\n",
    "    print(\"\\nAfter seek(6):\")\n",
    "    print(f\"Current file pointer position: {file.tell()}\")\n",
    "    print(file.read())\n",
    "    \n",
    "    file.seek(0, 2)  # Move to the end of the file\n",
    "    print(\"\\nAfter seek(0, 2):\")\n",
    "    print(f\"Current file pointer position: {file.tell()}\")\n",
    "    \n",
    "    file.seek(-8, 2)  # Move 8 characters back from the end\n",
    "    print(\"\\nAfter seek(-8, 2):\")\n",
    "    print(f\"Current file pointer position: {file.tell()}\")\n",
    "    print(file.read())\n",
    "    \n",
    "    file.seek(6)  # Move 6 characters from the beginning\n",
    "    file.seek(5, 1)  # Move 5 characters forward from the current position\n",
    "    print(\"\\nAfter seek(5, 1):\")\n",
    "    print(f\"Current file pointer position: {file.tell()}\")\n",
    "    print(file.read())\n"
   ]
  }
 ],
 "metadata": {
  "kernelspec": {
   "display_name": "Python 3 (ipykernel)",
   "language": "python",
   "name": "python3"
  },
  "language_info": {
   "codemirror_mode": {
    "name": "ipython",
    "version": 3
   },
   "file_extension": ".py",
   "mimetype": "text/x-python",
   "name": "python",
   "nbconvert_exporter": "python",
   "pygments_lexer": "ipython3",
   "version": "3.12.7"
  }
 },
 "nbformat": 4,
 "nbformat_minor": 4
}
