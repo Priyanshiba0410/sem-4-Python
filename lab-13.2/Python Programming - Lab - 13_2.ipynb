{
 "cells": [
  {
   "cell_type": "markdown",
   "metadata": {},
   "source": [
    "<a href='https://www.darshan.ac.in/'> <img src='https://www.darshan.ac.in/Content/media/DU_Logo.svg' width=\"250\" height=\"300\"/></a>\n",
    "<pre>\n",
    "<center><b><h1>Python Programming - 2301CS404</b></center>\n",
    "<center><b><h1>Lab - 13</b></center> \n",
    "    <center><b><h1>Gohil Priyanshiba ||23010101090  ||11-03-2025</b></center>    \n",
    "\n",
    "<pre>"
   ]
  },
  {
   "cell_type": "markdown",
   "metadata": {},
   "source": [
    "## Continued.."
   ]
  },
  {
   "cell_type": "markdown",
   "metadata": {},
   "source": [
    "### 10) Calculate area of a ractangle using object as an argument to a method."
   ]
  },
  {
   "cell_type": "code",
   "execution_count": 3,
   "metadata": {},
   "outputs": [
    {
     "name": "stdout",
     "output_type": "stream",
     "text": [
      "The area of the rectangle is: 50\n"
     ]
    }
   ],
   "source": [
    "class Rectangle:\n",
    "    def __init__(self, length, width):\n",
    "        self.length = length\n",
    "        self.width = width\n",
    "def calculate_area(rectangle_obj):\n",
    "    return rectangle_obj.length * rectangle_obj.width\n",
    "rectangle = Rectangle(10, 5)\n",
    "area = calculate_area(rectangle)\n",
    "print(f\"The area of the rectangle is: {area}\")\n"
   ]
  },
  {
   "cell_type": "markdown",
   "metadata": {},
   "source": [
    "### 11) Calculate the area of a square. \n",
    "### Include a Constructor, a method to calculate area named area() and a method named output() that prints the output and is invoked by area()."
   ]
  },
  {
   "cell_type": "code",
   "execution_count": 5,
   "metadata": {},
   "outputs": [
    {
     "name": "stdout",
     "output_type": "stream",
     "text": [
      "The area of the square with side 6 is: 36\n"
     ]
    }
   ],
   "source": [
    "class Square:\n",
    "    def __init__(self, side):\n",
    "        self.side = side\n",
    "    def area(self):\n",
    "        square_area = self.side * self.side\n",
    "        self.output(square_area)\n",
    "    def output(self, square_area):\n",
    "        print(f\"The area of the square with side {self.side} is: {square_area}\")\n",
    "\n",
    "square = Square(6)\n",
    "square.area()\n"
   ]
  },
  {
   "cell_type": "markdown",
   "metadata": {},
   "source": [
    "### 12) Calculate the area of a rectangle. \n",
    "### Include a Constructor, a method to calculate area named area() and a method named output() that prints the output and is invoked by area().\n",
    "### Also define a class method that compares the two sides of reactangle. An object is instantiated only if the two sides are different; otherwise a message should be displayed : THIS IS SQUARE."
   ]
  },
  {
   "cell_type": "code",
   "execution_count": 7,
   "metadata": {},
   "outputs": [
    {
     "name": "stdout",
     "output_type": "stream",
     "text": [
      "The area of the rectangle with sides 10 and 5 is: 50\n"
     ]
    }
   ],
   "source": [
    "class Rectangle:\n",
    "    def __init__(self, length, width):\n",
    "        self.length = length\n",
    "        self.width = width\n",
    "    @classmethod\n",
    "    def validate_sides(cls, length, width):\n",
    "        if length == width:\n",
    "            print(\"THIS IS SQUARE\")\n",
    "            return None\n",
    "        else:\n",
    "            return cls(length, width)\n",
    "    def area(self):\n",
    "        rectangle_area = self.length * self.width\n",
    "        self.output(rectangle_area)\n",
    "\n",
    "    def output(self, rectangle_area):\n",
    "        print(f\"The area of the rectangle with sides {self.length} and {self.width} is: {rectangle_area}\")\n",
    "rectangle = Rectangle.validate_sides(10, 5)  \n",
    "if rectangle:\n",
    "    rectangle.area()\n"
   ]
  },
  {
   "cell_type": "markdown",
   "metadata": {},
   "source": [
    "### 13) Define a class Square having a private attribute \"side\". \n",
    "### Implement get_side and set_side methods to accees the private attribute from outside of the class."
   ]
  },
  {
   "cell_type": "code",
   "execution_count": 21,
   "metadata": {},
   "outputs": [
    {
     "name": "stdout",
     "output_type": "stream",
     "text": [
      "Initial side length: 4\n",
      "Updated side length: 6\n",
      "Side length must be a positive value.\n"
     ]
    }
   ],
   "source": [
    "class Square:\n",
    "    def __init__(self, side):\n",
    "        self.__side = side\n",
    "    def get_side(self):\n",
    "        return self.__side\n",
    "    def set_side(self, side):\n",
    "        if side > 0: \n",
    "            self.__side = side\n",
    "        else:\n",
    "            print(\"Side length must be a positive value.\")\n",
    "square = Square(4)\n",
    "\n",
    "print(f\"Initial side length: {square.get_side()}\")\n",
    "square.set_side(6)\n",
    "print(f\"Updated side length: {square.get_side()}\")\n",
    "square.set_side(-3)\n"
   ]
  },
  {
   "cell_type": "markdown",
   "metadata": {},
   "source": [
    "### 14) Create a class Profit that has a method named getProfit that accepts profit from the user.\n",
    "### Create a class Loss that has a method named getLoss that accepts loss from the user.\n",
    "### Create a class BalanceSheet that inherits from both classes Profit and Loss and calculates the balanace. It has two methods getBalance() and printBalance()."
   ]
  },
  {
   "cell_type": "code",
   "execution_count": 29,
   "metadata": {},
   "outputs": [
    {
     "name": "stdin",
     "output_type": "stream",
     "text": [
      "Enter profit amount:  455\n",
      "Enter loss amount:  1011\n"
     ]
    },
    {
     "name": "stdout",
     "output_type": "stream",
     "text": [
      "The balance is: -556.0\n"
     ]
    }
   ],
   "source": [
    "class Profit:\n",
    "    def getProfit(self):\n",
    "        self.profit = float(input(\"Enter profit amount: \"))\n",
    "class Loss:\n",
    "    def getLoss(self):\n",
    "        self.loss = float(input(\"Enter loss amount: \"))\n",
    "class BalanceSheet(Profit, Loss):\n",
    "    def getBalance(self):\n",
    "        self.balance = self.profit - self.loss\n",
    "    def printBalance(self):\n",
    "        print(f\"The balance is: {self.balance}\")\n",
    "bs = BalanceSheet()\n",
    "\n",
    "bs.getProfit()\n",
    "bs.getLoss()\n",
    "bs.getBalance()\n",
    "bs.printBalance()\n"
   ]
  },
  {
   "attachments": {},
   "cell_type": "markdown",
   "metadata": {},
   "source": [
    "### 15) WAP to demonstrate all types of inheritance."
   ]
  },
  {
   "cell_type": "code",
   "execution_count": 41,
   "metadata": {},
   "outputs": [
    {
     "name": "stdout",
     "output_type": "stream",
     "text": [
      "Single Inheritance:\n",
      "This animal eats food.\n",
      "The dog barks.\n",
      "\n",
      "Multiple Inheritance:\n",
      "This mammal walks.\n",
      "This bird flies.\n",
      "The bat squeaks.\n",
      "\n",
      "Multilevel Inheritance:\n",
      "Vehicle starts.\n",
      "Car drives.\n",
      "Sports car accelerates.\n",
      "\n",
      "Hierarchical Inheritance:\n",
      "This is a shape.\n",
      "Drawing a circle.\n",
      "This is a shape.\n",
      "Drawing a rectangle.\n",
      "\n",
      "Hybrid Inheritance:\n",
      "This is the parent class.\n",
      "This is child 1.\n",
      "This is child 2.\n",
      "This is the grandchild class.\n"
     ]
    }
   ],
   "source": [
    "# Single Inheritance\n",
    "class Animal:\n",
    "    def eat(self):\n",
    "        print(\"This animal eats food.\")\n",
    "class Dog(Animal): \n",
    "    def bark(self):\n",
    "        print(\"The dog barks.\")\n",
    "\n",
    "# Multiple Inheritance\n",
    "class Mammal:\n",
    "    def walk(self):\n",
    "        print(\"This mammal walks.\")\n",
    "class Bird:\n",
    "    def fly(self):\n",
    "        print(\"This bird flies.\")\n",
    "class Bat(Mammal, Bird): \n",
    "    def sound(self):\n",
    "        print(\"The bat squeaks.\")\n",
    "\n",
    "# Multilevel Inheritance\n",
    "class Vehicle:\n",
    "    def start(self):\n",
    "        print(\"Vehicle starts.\")\n",
    "class Car(Vehicle): \n",
    "    def drive(self):\n",
    "        print(\"Car drives.\")\n",
    "class SportsCar(Car): \n",
    "    def accelerate(self):\n",
    "        print(\"Sports car accelerates.\")\n",
    "        \n",
    "# Hierarchical Inheritance\n",
    "class Shape:\n",
    "    def display(self):\n",
    "        print(\"This is a shape.\")\n",
    "class Circle(Shape): \n",
    "    def draw(self):\n",
    "        print(\"Drawing a circle.\")\n",
    "class Rectangle(Shape):  \n",
    "    def draw(self):\n",
    "        print(\"Drawing a rectangle.\")\n",
    "\n",
    "# Hybrid Inheritance\n",
    "class Parent:\n",
    "    def show_parent(self):\n",
    "        print(\"This is the parent class.\")\n",
    "class Child1(Parent):  \n",
    "    def show_child1(self):\n",
    "        print(\"This is child 1.\")\n",
    "class Child2(Parent):  \n",
    "    def show_child2(self):\n",
    "        print(\"This is child 2.\")\n",
    "class GrandChild(Child1, Child2):  \n",
    "    def show_grandchild(self):\n",
    "        print(\"This is the grandchild class.\")\n",
    "\n",
    "#all types of inheritance\n",
    "print(\"Single Inheritance:\")\n",
    "dog = Dog()\n",
    "dog.eat()\n",
    "dog.bark()\n",
    "\n",
    "print(\"\\nMultiple Inheritance:\")\n",
    "bat = Bat()\n",
    "bat.walk()\n",
    "bat.fly()\n",
    "bat.sound()\n",
    "\n",
    "print(\"\\nMultilevel Inheritance:\")\n",
    "sports_car = SportsCar()\n",
    "sports_car.start()\n",
    "sports_car.drive()\n",
    "sports_car.accelerate()\n",
    "\n",
    "print(\"\\nHierarchical Inheritance:\")\n",
    "circle = Circle()\n",
    "rectangle = Rectangle()\n",
    "circle.display()\n",
    "circle.draw()\n",
    "rectangle.display()\n",
    "rectangle.draw()\n",
    "\n",
    "print(\"\\nHybrid Inheritance:\")\n",
    "grandchild = GrandChild()\n",
    "grandchild.show_parent()\n",
    "grandchild.show_child1()\n",
    "grandchild.show_child2()\n",
    "grandchild.show_grandchild()"
   ]
  },
  {
   "cell_type": "markdown",
   "metadata": {},
   "source": [
    "### 16) Create a Person class with a constructor that takes two arguments name and age. \n",
    "### Create a child class Employee that inherits from Person and adds a new attribute salary. \n",
    "### Override the __init__ method in Employee to call the parent class's __init__ method using the super() and then initialize the salary attribute."
   ]
  },
  {
   "cell_type": "code",
   "execution_count": 39,
   "metadata": {},
   "outputs": [
    {
     "name": "stdout",
     "output_type": "stream",
     "text": [
      "Name: John Doe\n",
      "Age: 30\n",
      "Salary: 50000\n"
     ]
    }
   ],
   "source": [
    "class Person:\n",
    "    def __init__(self, name, age):\n",
    "        self.name = name\n",
    "        self.age = age\n",
    "class Employee(Person):\n",
    "    def __init__(self, name, age, salary):\n",
    "        super().__init__(name, age)\n",
    "        self.salary = salary\n",
    "employee = Employee(\"John Doe\", 30, 50000)\n",
    "print(f\"Name: {employee.name}\")\n",
    "print(f\"Age: {employee.age}\")\n",
    "print(f\"Salary: {employee.salary}\")\n"
   ]
  },
  {
   "cell_type": "markdown",
   "metadata": {},
   "source": [
    "### 17) Create a Shape class with a draw method that is not implemented. \n",
    "### Create three child classes Rectangle, Circle, and Triangle that implement the draw method with their respective drawing behaviors. \n",
    "### Create a list of Shape objects that includes one instance of each child class, and then iterate through the list and call the draw method on each object."
   ]
  },
  {
   "cell_type": "code",
   "execution_count": 43,
   "metadata": {},
   "outputs": [
    {
     "name": "stdout",
     "output_type": "stream",
     "text": [
      "Drawing a rectangle.\n",
      "Drawing a circle.\n",
      "Drawing a triangle.\n"
     ]
    }
   ],
   "source": [
    "from abc import ABC, abstractmethod\n",
    "class Shape(ABC):\n",
    "    @abstractmethod\n",
    "    def draw(self):\n",
    "        pass\n",
    "class Rectangle(Shape):\n",
    "    def draw(self):\n",
    "        print(\"Drawing a rectangle.\")\n",
    "class Circle(Shape):\n",
    "    def draw(self):\n",
    "        print(\"Drawing a circle.\")\n",
    "class Triangle(Shape):\n",
    "    def draw(self):\n",
    "        print(\"Drawing a triangle.\")\n",
    "shapes = [Rectangle(), Circle(), Triangle()]\n",
    "for shape in shapes:\n",
    "    shape.draw()\n"
   ]
  },
  {
   "cell_type": "code",
   "execution_count": null,
   "metadata": {},
   "outputs": [],
   "source": []
  }
 ],
 "metadata": {
  "kernelspec": {
   "display_name": "Python 3 (ipykernel)",
   "language": "python",
   "name": "python3"
  },
  "language_info": {
   "codemirror_mode": {
    "name": "ipython",
    "version": 3
   },
   "file_extension": ".py",
   "mimetype": "text/x-python",
   "name": "python",
   "nbconvert_exporter": "python",
   "pygments_lexer": "ipython3",
   "version": "3.12.7"
  }
 },
 "nbformat": 4,
 "nbformat_minor": 4
}
