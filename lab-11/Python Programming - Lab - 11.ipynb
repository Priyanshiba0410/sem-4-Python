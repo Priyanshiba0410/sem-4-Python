{
 "cells": [
  {
   "attachments": {},
   "cell_type": "markdown",
   "metadata": {},
   "source": [
    "<a href='https://www.darshan.ac.in/'> <img src='https://www.darshan.ac.in/Content/media/DU_Logo.svg' width=\"250\" height=\"300\"/></a>\n",
    "<pre>\n",
    "<center><b><h1>Python Programming - 2301CS404</b></center>\n",
    "<center><b><h1>Lab - 11</b></center>   \n",
    "    <center><b><h1>Priyanshiba Gohil || 23010101090  ||14-02-2025</b></center>    \n",
    "\n",
    "<pre>"
   ]
  },
  {
   "cell_type": "markdown",
   "metadata": {},
   "source": [
    "# Modules"
   ]
  },
  {
   "cell_type": "markdown",
   "metadata": {},
   "source": [
    "### 01) WAP to create Calculator module which defines functions like add, sub,mul and div. \n",
    "### Create another .py file that uses the functions available in Calculator module."
   ]
  },
  {
   "cell_type": "code",
   "execution_count": 1,
   "metadata": {},
   "outputs": [
    {
     "name": "stdin",
     "output_type": "stream",
     "text": [
      "Enter the value of a :  4\n",
      "Enter the value of b :  5\n"
     ]
    },
    {
     "name": "stdout",
     "output_type": "stream",
     "text": [
      "9\n",
      "-1\n",
      "20\n",
      "0.8\n"
     ]
    }
   ],
   "source": [
    "import clc\n",
    "a = int(input(\"Enter the value of a : \"))\n",
    "b = int(input(\"Enter the value of b : \"))\n",
    "print(clc.add(a,b))\n",
    "print(clc.sub(a,b))\n",
    "print(clc.mul(a,b))\n",
    "print(clc.div(a,b))"
   ]
  },
  {
   "cell_type": "markdown",
   "metadata": {},
   "source": [
    "### 02) WAP to pick a random character from a given String."
   ]
  },
  {
   "cell_type": "code",
   "execution_count": 9,
   "metadata": {},
   "outputs": [
    {
     "name": "stdout",
     "output_type": "stream",
     "text": [
      "l\n"
     ]
    }
   ],
   "source": [
    "import random\n",
    "s='Hello Word'\n",
    "random=random.choice(s)\n",
    "\n",
    "print(random)"
   ]
  },
  {
   "cell_type": "markdown",
   "metadata": {},
   "source": [
    "### 03) WAP to pick a random element from a given list."
   ]
  },
  {
   "cell_type": "code",
   "execution_count": 11,
   "metadata": {},
   "outputs": [
    {
     "name": "stdout",
     "output_type": "stream",
     "text": [
      "8\n"
     ]
    }
   ],
   "source": [
    "import random\n",
    "l1=[1,2,3,4,5,6,7,8,9,10]\n",
    "random=random.choice(l1)\n",
    "print(random)"
   ]
  },
  {
   "cell_type": "markdown",
   "metadata": {},
   "source": [
    "### 04) WAP to roll a dice in such a way that every time you get the same number."
   ]
  },
  {
   "cell_type": "code",
   "execution_count": 19,
   "metadata": {},
   "outputs": [
    {
     "name": "stdout",
     "output_type": "stream",
     "text": [
      "Rolled: 6\n",
      "Rolled: 6\n",
      "Rolled: 6\n",
      "Rolled: 6\n",
      "Rolled: 6\n",
      "Rolled: 6\n",
      "Rolled: 6\n",
      "Rolled: 6\n",
      "Rolled: 6\n",
      "Rolled: 6\n"
     ]
    }
   ],
   "source": [
    "def roll_dice():\n",
    "    return 6\n",
    "for _ in range(10):\n",
    "    print(f\"Rolled: {roll_dice()}\")\n"
   ]
  },
  {
   "cell_type": "markdown",
   "metadata": {},
   "source": [
    "### 05) WAP to generate 3 random integers between 100 and 999 which is divisible by 5."
   ]
  },
  {
   "cell_type": "code",
   "execution_count": 21,
   "metadata": {},
   "outputs": [
    {
     "name": "stdout",
     "output_type": "stream",
     "text": [
      "[880, 105, 315]\n"
     ]
    }
   ],
   "source": [
    "import random\n",
    "div_5 = [num for num in range(100, 999) if num % 5 == 0]\n",
    "rand_int=random.sample(div_5,k=3)\n",
    "print(rand_int)"
   ]
  },
  {
   "cell_type": "markdown",
   "metadata": {},
   "source": [
    "### 06) WAP to generate 100 random lottery tickets and pick two lucky tickets from it and announce them as Winner and Runner up respectively."
   ]
  },
  {
   "cell_type": "code",
   "execution_count": 27,
   "metadata": {},
   "outputs": [
    {
     "name": "stdout",
     "output_type": "stream",
     "text": [
      "[571, 612, 198, 126, 145, 753, 253, 908, 450, 401, 328, 644, 904, 992, 119, 400, 334, 805, 674, 669, 342, 973, 436, 359, 720, 752, 714, 986, 244, 553, 775, 221, 279, 452, 677, 793, 162, 478, 871, 863, 312, 703, 382, 555, 929, 995, 830, 572, 364, 164, 281, 920, 175, 814, 255, 531, 357, 102, 844, 186, 689, 340, 942, 913, 849, 922, 936, 974, 185, 604, 214, 874, 437, 708, 475, 946, 781, 529, 807, 290, 280, 265, 918, 648, 146, 504, 993, 932, 579, 791, 567, 661, 515, 765, 624, 784, 522, 889, 739, 218]\n",
      "your winner 221\n",
      "your winner 265\n"
     ]
    }
   ],
   "source": [
    "import random\n",
    "ticket=random.sample(range(100,999),100)\n",
    "print(ticket)\n",
    "for i in range(1,3):\n",
    "    r=random.choice(ticket)\n",
    "    print('your winner',r)"
   ]
  },
  {
   "cell_type": "markdown",
   "metadata": {},
   "source": [
    "### 07) WAP to print current date and time in Python."
   ]
  },
  {
   "cell_type": "code",
   "execution_count": 29,
   "metadata": {},
   "outputs": [
    {
     "name": "stdout",
     "output_type": "stream",
     "text": [
      "2025-02-14 13:06:16.871803\n"
     ]
    }
   ],
   "source": [
    "import datetime\n",
    "current_time = datetime.datetime.now()\n",
    "print(current_time)"
   ]
  },
  {
   "cell_type": "markdown",
   "metadata": {},
   "source": [
    "### 08) Subtract a week (7 days) from a given date in Python."
   ]
  },
  {
   "cell_type": "code",
   "execution_count": 31,
   "metadata": {},
   "outputs": [
    {
     "name": "stdout",
     "output_type": "stream",
     "text": [
      "New date (one week earlier) from '2025-02-14': 2025-02-07\n"
     ]
    }
   ],
   "source": [
    "from datetime import datetime, timedelta\n",
    "given_date = datetime(2025, 2, 14)  \n",
    "new_date = given_date - timedelta(days=7)\n",
    "print( new_date)"
   ]
  },
  {
   "cell_type": "markdown",
   "metadata": {},
   "source": [
    "### 09) WAP to Calculate number of days between two given dates."
   ]
  },
  {
   "cell_type": "code",
   "execution_count": 39,
   "metadata": {},
   "outputs": [
    {
     "name": "stdout",
     "output_type": "stream",
     "text": [
      "-26 days, 0:00:00\n"
     ]
    }
   ],
   "source": [
    "from datetime import datetime\n",
    "d1=datetime(2025,2,10)\n",
    "d2=datetime(2025,1,15)\n",
    "date_diff = d2-d1\n",
    "print(date_diff)"
   ]
  },
  {
   "cell_type": "markdown",
   "metadata": {},
   "source": [
    "### 10) WAP to Find the day of the week of a given date.(i.e. wether it is sunday/monday/tuesday/etc.)"
   ]
  },
  {
   "cell_type": "code",
   "execution_count": 33,
   "metadata": {},
   "outputs": [
    {
     "name": "stdout",
     "output_type": "stream",
     "text": [
      "The day of the week is: Monday\n"
     ]
    }
   ],
   "source": [
    "import datetime\n",
    "def find_day(year, month, day):\n",
    "    date = datetime.date(year, month, day)\n",
    "    return date.strftime(\"%A\")\n",
    "year = 2024\n",
    "month = 2\n",
    "day = 12\n",
    "print(\"The day of the week is:\", find_day(year, month, day))"
   ]
  },
  {
   "cell_type": "markdown",
   "metadata": {},
   "source": [
    "### 11) WAP to demonstrate the use of date time module."
   ]
  },
  {
   "cell_type": "code",
   "execution_count": 35,
   "metadata": {},
   "outputs": [
    {
     "name": "stdout",
     "output_type": "stream",
     "text": [
      "Current Date and Time: 2025-02-14 13:10:32.308564\n",
      "Today's Date: 2025-02-14\n",
      "Specific Date: 1993-11-21\n",
      "currenttime 13:10:32.308564\n"
     ]
    }
   ],
   "source": [
    "print(\"Current Date and Time:\", datetime.datetime.now())\n",
    "print(\"Today's Date:\", datetime.date.today())\n",
    "print(\"Specific Date:\", datetime.date(1993,11 , 21))\n",
    "print(\"currenttime\", datetime.datetime.now().time())"
   ]
  },
  {
   "cell_type": "markdown",
   "metadata": {},
   "source": [
    "### 12) WAP to demonstrate the use of the math module."
   ]
  },
  {
   "cell_type": "code",
   "execution_count": 37,
   "metadata": {},
   "outputs": [
    {
     "name": "stdout",
     "output_type": "stream",
     "text": [
      "Square root of 16 is 4.0\n"
     ]
    }
   ],
   "source": [
    "import math\n",
    "num = 16\n",
    "print(\"Square root of\", num, \"is\", math.sqrt(num))"
   ]
  }
 ],
 "metadata": {
  "kernelspec": {
   "display_name": "Python 3 (ipykernel)",
   "language": "python",
   "name": "python3"
  },
  "language_info": {
   "codemirror_mode": {
    "name": "ipython",
    "version": 3
   },
   "file_extension": ".py",
   "mimetype": "text/x-python",
   "name": "python",
   "nbconvert_exporter": "python",
   "pygments_lexer": "ipython3",
   "version": "3.12.7"
  }
 },
 "nbformat": 4,
 "nbformat_minor": 4
}
