{
 "cells": [
  {
   "cell_type": "markdown",
   "metadata": {},
   "source": [
    "<a href='https://www.darshan.ac.in/'> <img src='https://www.darshan.ac.in/Content/media/DU_Logo.svg' width=\"250\" height=\"300\"/></a>\n",
    "<pre>\n",
    "<center><b><h1>Python Programming - 2301CS404</b></center>\n",
    "<center><b><h1>Lab - 13</b></center>\n",
    "        <center><b><h1>Priyanshiba Gohil ||23010101090 ||07-03-2025</b></center>    \n",
    "\n",
    "<pre>"
   ]
  },
  {
   "cell_type": "markdown",
   "metadata": {},
   "source": [
    "# OOP"
   ]
  },
  {
   "cell_type": "markdown",
   "metadata": {},
   "source": [
    "### 01) Write a Program to create a class by name Students, and initialize attributes like name, age, and grade while creating an object."
   ]
  },
  {
   "cell_type": "code",
   "execution_count": 2,
   "metadata": {},
   "outputs": [
    {
     "name": "stdout",
     "output_type": "stream",
     "text": [
      "Name: John Doe\n",
      "Age: 20\n",
      "Grade: A\n"
     ]
    }
   ],
   "source": [
    "class Students:\n",
    "    def __init__(self, name, age, grade):\n",
    "        self.name = name\n",
    "        self.age = age\n",
    "        self.grade = grade\n",
    "    def display_info(self):\n",
    "        print(f\"Name: {self.name}\")\n",
    "        print(f\"Age: {self.age}\")\n",
    "        print(f\"Grade: {self.grade}\")\n",
    "student1 = Students('John Doe', 20, 'A')\n",
    "\n",
    "student1.display_info()\n"
   ]
  },
  {
   "cell_type": "markdown",
   "metadata": {},
   "source": [
    "### 02) Create a class named Bank_Account with Account_No, User_Name, Email,Account_Type and Account_Balance data members. Also create a method GetAccountDetails() and DisplayAccountDetails(). Create main method to demonstrate the Bank_Account class."
   ]
  },
  {
   "cell_type": "code",
   "execution_count": 4,
   "metadata": {},
   "outputs": [
    {
     "name": "stdin",
     "output_type": "stream",
     "text": [
      "Enter Account Number:  142541525633333\n",
      "Enter User Name:  1524885\n",
      "Enter Email:  hii@gmail.com\n",
      "Enter Account Type:  savings\n",
      "Enter Account Balance:  125463\n"
     ]
    },
    {
     "name": "stdout",
     "output_type": "stream",
     "text": [
      "Account Number: 142541525633333\n",
      "User Name: 1524885\n",
      "Email: hii@gmail.com\n",
      "Account Type: savings\n",
      "Account Balance: 125463.0\n"
     ]
    }
   ],
   "source": [
    "class Bank_Account:\n",
    "    def __init__(self, account_no, user_name, email, account_type, account_balance):\n",
    "        self.account_no = account_no\n",
    "        self.user_name = user_name\n",
    "        self.email = email\n",
    "        self.account_type = account_type\n",
    "        self.account_balance = account_balance\n",
    "    def GetAccountDetails(self):\n",
    "        self.account_no = input(\"Enter Account Number: \")\n",
    "        self.user_name = input(\"Enter User Name: \")\n",
    "        self.email = input(\"Enter Email: \")\n",
    "        self.account_type = input(\"Enter Account Type: \")\n",
    "        self.account_balance = float(input(\"Enter Account Balance: \"))\n",
    "    def DisplayAccountDetails(self):\n",
    "        print(f\"Account Number: {self.account_no}\")\n",
    "        print(f\"User Name: {self.user_name}\")\n",
    "        print(f\"Email: {self.email}\")\n",
    "        print(f\"Account Type: {self.account_type}\")\n",
    "        print(f\"Account Balance: {self.account_balance}\")\n",
    "def main():\n",
    "    account = Bank_Account('', '', '', '', 0.0)\n",
    "    account.GetAccountDetails()\n",
    "    account.DisplayAccountDetails()\n",
    "if __name__ == \"__main__\":\n",
    "    main()\n"
   ]
  },
  {
   "cell_type": "markdown",
   "metadata": {},
   "source": [
    "### 03) WAP to create Circle class with area and perimeter function to find area and perimeter of circle."
   ]
  },
  {
   "cell_type": "code",
   "execution_count": 6,
   "metadata": {},
   "outputs": [
    {
     "name": "stdout",
     "output_type": "stream",
     "text": [
      "Area of the circle: 78.53981633974483\n",
      "Perimeter of the circle: 31.41592653589793\n"
     ]
    }
   ],
   "source": [
    "import math\n",
    "class Circle:\n",
    "    def __init__(self, radius):\n",
    "        self.radius = radius\n",
    "    def area(self):\n",
    "        return math.pi * self.radius ** 2\n",
    "    def perimeter(self):\n",
    "        return 2 * math.pi * self.radius\n",
    "circle = Circle(5)\n",
    "print(f\"Area of the circle: {circle.area()}\")\n",
    "print(f\"Perimeter of the circle: {circle.perimeter()}\")\n"
   ]
  },
  {
   "cell_type": "markdown",
   "metadata": {},
   "source": [
    "### 04) Create a class for employees that includes attributes such as name, age, salary, and methods to update and display employee information."
   ]
  },
  {
   "cell_type": "code",
   "execution_count": 10,
   "metadata": {},
   "outputs": [
    {
     "name": "stdout",
     "output_type": "stream",
     "text": [
      "Name: piyuba\n",
      "Age: 30\n",
      "Salary: 50000\n",
      "Name: piyuba\n",
      "Age: 31\n",
      "Salary: 55000\n"
     ]
    }
   ],
   "source": [
    "class Employee:\n",
    "    def __init__(self, name, age, salary):\n",
    "        self.name = name\n",
    "        self.age = age\n",
    "        self.salary = salary\n",
    "    def update_info(self, name=None, age=None, salary=None):\n",
    "        if name is not None:\n",
    "            self.name = name\n",
    "        if age is not None:\n",
    "            self.age = age\n",
    "        if salary is not None:\n",
    "            self.salary = salary\n",
    "    def display_info(self):\n",
    "        print(f\"Name: {self.name}\")\n",
    "        print(f\"Age: {self.age}\")\n",
    "        print(f\"Salary: {self.salary}\")\n",
    "employee = Employee('piyuba', 30, 50000)\n",
    "employee.display_info()\n",
    "employee.update_info(age=31, salary=55000)\n",
    "employee.display_info()\n"
   ]
  },
  {
   "cell_type": "markdown",
   "metadata": {},
   "source": [
    "### 05) Create a bank account class with methods to deposit, withdraw, and check balance."
   ]
  },
  {
   "cell_type": "code",
   "execution_count": 12,
   "metadata": {},
   "outputs": [
    {
     "name": "stdout",
     "output_type": "stream",
     "text": [
      "Deposited 1000. New balance is 1000.0.\n",
      "Withdrew 200. New balance is 800.0.\n",
      "Current balance is 800.0.\n"
     ]
    }
   ],
   "source": [
    "class BankAccount:\n",
    "    def __init__(self, account_no, account_holder):\n",
    "        self.account_no = account_no\n",
    "        self.account_holder = account_holder\n",
    "        self.balance = 0.0\n",
    "    def deposit(self, amount):\n",
    "        if amount > 0:\n",
    "            self.balance += amount\n",
    "            print(f\"Deposited {amount}. New balance is {self.balance}.\")\n",
    "        else:\n",
    "            print(\"Deposit amount must be positive.\")\n",
    "    def withdraw(self, amount):\n",
    "        if amount > 0:\n",
    "            if self.balance >= amount:\n",
    "                self.balance -= amount\n",
    "                print(f\"Withdrew {amount}. New balance is {self.balance}.\")\n",
    "            else:\n",
    "                print(\"Insufficient balance.\")\n",
    "        else:\n",
    "            print(\"Withdrawal amount must be positive.\")\n",
    "    def check_balance(self):\n",
    "        print(f\"Current balance is {self.balance}.\")\n",
    "account = BankAccount('12345678', 'Piyuba')\n",
    "account.deposit(1000)\n",
    "account.withdraw(200)\n",
    "account.check_balance()\n"
   ]
  },
  {
   "cell_type": "markdown",
   "metadata": {},
   "source": [
    "### 06) Create a class for managing inventory that includes attributes such as item name, price, quantity, and methods to add, remove, and update items."
   ]
  },
  {
   "cell_type": "code",
   "execution_count": 14,
   "metadata": {},
   "outputs": [
    {
     "name": "stdout",
     "output_type": "stream",
     "text": [
      "Item 'Laptop' added to inventory.\n",
      "Item 'Smartphone' added to inventory.\n",
      "Item: Laptop, Price: 1000, Quantity: 10\n",
      "Item: Smartphone, Price: 500, Quantity: 20\n",
      "Item 'Laptop' updated in inventory.\n",
      "Item 'Smartphone' removed from inventory.\n",
      "Item: Laptop, Price: 950, Quantity: 15\n"
     ]
    }
   ],
   "source": [
    "class Inventory:\n",
    "    def __init__(self):\n",
    "        self.items = []\n",
    "    def add_item(self, item_name, price, quantity):\n",
    "        for item in self.items:\n",
    "            if item['item_name'] == item_name:\n",
    "                print(f\"Item '{item_name}' already exists in inventory.\")\n",
    "                return\n",
    "        self.items.append({'item_name': item_name, 'price': price, 'quantity': quantity})\n",
    "        print(f\"Item '{item_name}' added to inventory.\")\n",
    "    def remove_item(self, item_name):\n",
    "        for item in self.items:\n",
    "            if item['item_name'] == item_name:\n",
    "                self.items.remove(item)\n",
    "                print(f\"Item '{item_name}' removed from inventory.\")\n",
    "                return\n",
    "        print(f\"Item '{item_name}' not found in inventory.\")\n",
    "    def update_item(self, item_name, price=None, quantity=None):\n",
    "        for item in self.items:\n",
    "            if item['item_name'] == item_name:\n",
    "                if price is not None:\n",
    "                    item['price'] = price\n",
    "                if quantity is not None:\n",
    "                    item['quantity'] = quantity\n",
    "                print(f\"Item '{item_name}' updated in inventory.\")\n",
    "                return\n",
    "        print(f\"Item '{item_name}' not found in inventory.\")\n",
    "    def display_inventory(self):\n",
    "        if not self.items:\n",
    "            print(\"Inventory is empty.\")\n",
    "        else:\n",
    "            for item in self.items:\n",
    "                print(f\"Item: {item['item_name']}, Price: {item['price']}, Quantity: {item['quantity']}\")\n",
    "def main():\n",
    "    inventory = Inventory()\n",
    "    inventory.add_item('Laptop', 1000, 10)\n",
    "    inventory.add_item('Smartphone', 500, 20)\n",
    "    inventory.display_inventory()\n",
    "    inventory.update_item('Laptop', price=950, quantity=15)\n",
    "    inventory.remove_item('Smartphone')\n",
    "    inventory.display_inventory()\n",
    "if __name__ == \"__main__\":\n",
    "    main()\n"
   ]
  },
  {
   "cell_type": "markdown",
   "metadata": {},
   "source": [
    "### 07) Create a Class with instance attributes of your choice."
   ]
  },
  {
   "cell_type": "code",
   "execution_count": 16,
   "metadata": {},
   "outputs": [
    {
     "name": "stdout",
     "output_type": "stream",
     "text": [
      "Title: To Kill a Mockingbird\n",
      "Author: Harper Lee\n",
      "Year: 1960\n",
      "Genre: Fiction\n",
      "Title: To Kill a Mockingbird\n",
      "Author: Harper Lee\n",
      "Year: 1961\n",
      "Genre: Classic Fiction\n"
     ]
    }
   ],
   "source": [
    "class Book:\n",
    "    def __init__(self, title, author, year, genre):\n",
    "        self.title = title\n",
    "        self.author = author\n",
    "        self.year = year\n",
    "        self.genre = genre\n",
    "    def display_info(self):\n",
    "        print(f\"Title: {self.title}\")\n",
    "        print(f\"Author: {self.author}\")\n",
    "        print(f\"Year: {self.year}\")\n",
    "        print(f\"Genre: {self.genre}\")\n",
    "    def update_info(self, title=None, author=None, year=None, genre=None):\n",
    "        if title is not None:\n",
    "            self.title = title\n",
    "        if author is not None:\n",
    "            self.author = author\n",
    "        if year is not None:\n",
    "            self.year = year\n",
    "        if genre is not None:\n",
    "            self.genre = genre\n",
    "book1 = Book('To Kill a Mockingbird', 'Harper Lee', 1960, 'Fiction')\n",
    "book1.display_info()\n",
    "book1.update_info(year=1961, genre='Classic Fiction')\n",
    "book1.display_info()\n"
   ]
  },
  {
   "cell_type": "markdown",
   "metadata": {},
   "source": [
    "### 08) Create one class student_kit\n",
    "#### Within the student_kit class create one class attribute principal name ( Mr ABC )\n",
    "#### Create one attendance method and take input as number of days.\n",
    "#### While creating student take input their name .\n",
    "#### Create one certificate for each student by taking input of number of days present in class."
   ]
  },
  {
   "cell_type": "code",
   "execution_count": 18,
   "metadata": {},
   "outputs": [
    {
     "name": "stdin",
     "output_type": "stream",
     "text": [
      "Enter the student's name:  kiyaa\n",
      "Enter the number of days present in class:  5\n"
     ]
    },
    {
     "name": "stdout",
     "output_type": "stream",
     "text": [
      "********************************\n",
      "Certificate of Attendance\n",
      "********************************\n",
      "Principal: Mr. ABC\n",
      "Student: kiyaa\n",
      "Days Present: 5\n",
      "********************************\n"
     ]
    }
   ],
   "source": [
    "class StudentKit:\n",
    "    principal_name = \"Mr.Gambhva\"\n",
    "    def __init__(self, student_name):\n",
    "        self.student_name = student_name\n",
    "        self.attendance_days = 0\n",
    "    def attendance(self, days):\n",
    "        self.attendance_days = days\n",
    "    def generate_certificate(self):\n",
    "        print(\"********************************\")\n",
    "        print(f\"Certificate of Attendance\")\n",
    "        print(\"********************************\")\n",
    "        print(f\"Principal: {self.principal_name}\")\n",
    "        print(f\"Student: {self.student_name}\")\n",
    "        print(f\"Days Present: {self.attendance_days}\")\n",
    "        print(\"********************************\")\n",
    "def main():\n",
    "    student_name = input(\"Enter the student's name: \")\n",
    "    student = StudentKit(student_name)\n",
    "    attendance_days = int(input(\"Enter the number of days present in class: \"))\n",
    "    student.attendance(attendance_days)\n",
    "    student.generate_certificate()\n",
    "if __name__ == \"__main__\":\n",
    "    main()\n"
   ]
  },
  {
   "cell_type": "markdown",
   "metadata": {},
   "source": [
    "### 09) Define Time class with hour and minute as data member. Also define addition method to add two time objects."
   ]
  },
  {
   "cell_type": "code",
   "execution_count": 20,
   "metadata": {},
   "outputs": [
    {
     "name": "stdout",
     "output_type": "stream",
     "text": [
      "Time 1:\n",
      "10:45\n",
      "Time 2:\n",
      "03:30\n",
      "Resulting Time after Addition:\n",
      "14:15\n"
     ]
    }
   ],
   "source": [
    "class Time:\n",
    "    def __init__(self, hour, minute):\n",
    "        self.hour = hour\n",
    "        self.minute = minute\n",
    "    def add_time(self, other):\n",
    "        total_minutes = self.minute + other.minute\n",
    "        extra_hour = total_minutes // 60\n",
    "        new_minute = total_minutes % 60\n",
    "        total_hours = self.hour + other.hour + extra_hour\n",
    "        new_hour = total_hours % 24  # Assuming 24-hour format\n",
    "        return Time(new_hour, new_minute)\n",
    "    def display_time(self):\n",
    "        print(f\"{self.hour:02}:{self.minute:02}\")\n",
    "time1 = Time(10, 45)\n",
    "time2 = Time(3, 30)\n",
    "time3 = time1.add_time(time2)\n",
    "print(\"Time 1:\")\n",
    "time1.display_time()\n",
    "print(\"Time 2:\")\n",
    "time2.display_time()\n",
    "print(\"Resulting Time after Addition:\")\n",
    "time3.display_time()\n"
   ]
  }
 ],
 "metadata": {
  "kernelspec": {
   "display_name": "Python 3 (ipykernel)",
   "language": "python",
   "name": "python3"
  },
  "language_info": {
   "codemirror_mode": {
    "name": "ipython",
    "version": 3
   },
   "file_extension": ".py",
   "mimetype": "text/x-python",
   "name": "python",
   "nbconvert_exporter": "python",
   "pygments_lexer": "ipython3",
   "version": "3.12.7"
  }
 },
 "nbformat": 4,
 "nbformat_minor": 4
}
