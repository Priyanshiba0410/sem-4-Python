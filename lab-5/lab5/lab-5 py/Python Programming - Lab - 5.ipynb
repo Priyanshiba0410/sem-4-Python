{
 "cells": [
  {
   "cell_type": "markdown",
   "metadata": {},
   "source": [
    "\n",
    "<a href='https://www.darshan.ac.in/'> <img src='https://www.darshan.ac.in/Content/media/DU_Logo.svg' width=\"250\" height=\"300\"/></a>\n",
    "<pre>\n",
    "<center><b><h1>Python Programming - 2301CS404</b></center>\n",
    "    <center><b><h1>Gohil Priyanshiba ||23010101090   || 27-12-2024</b></center>\n",
    "\n",
    "<center><b><h1>Lab - 5</b></center>    \n",
    "<pre>"
   ]
  },
  {
   "cell_type": "markdown",
   "metadata": {},
   "source": [
    "# List"
   ]
  },
  {
   "cell_type": "markdown",
   "metadata": {},
   "source": [
    "### 01) WAP to find sum of all the elements in a List."
   ]
  },
  {
   "cell_type": "code",
   "execution_count": 2,
   "metadata": {},
   "outputs": [
    {
     "name": "stdout",
     "output_type": "stream",
     "text": [
      "150\n"
     ]
    }
   ],
   "source": [
    "l1=[10,20,30,40,50]\n",
    "sum=0\n",
    "for i in l1:\n",
    "    sum+=i\n",
    "else:\n",
    "    print(sum)"
   ]
  },
  {
   "cell_type": "markdown",
   "metadata": {},
   "source": [
    "### 02) WAP to find largest element in a List."
   ]
  },
  {
   "cell_type": "code",
   "execution_count": 4,
   "metadata": {},
   "outputs": [
    {
     "name": "stdout",
     "output_type": "stream",
     "text": [
      "Large no is:50\n"
     ]
    }
   ],
   "source": [
    "l1=[10,20,30,40,50]\n",
    "large = int()\n",
    "for i in l1:\n",
    "   if i>large:\n",
    "       large=i\n",
    "else:\n",
    "    print(f\"Large no is:{large}\")"
   ]
  },
  {
   "cell_type": "markdown",
   "metadata": {},
   "source": [
    "### 03) WAP to find the length of a List."
   ]
  },
  {
   "cell_type": "code",
   "execution_count": 6,
   "metadata": {},
   "outputs": [
    {
     "data": {
      "text/plain": [
       "5"
      ]
     },
     "execution_count": 6,
     "metadata": {},
     "output_type": "execute_result"
    }
   ],
   "source": [
    "l1=[10,20,30,40,50]\n",
    "len(l1)"
   ]
  },
  {
   "cell_type": "markdown",
   "metadata": {},
   "source": [
    "### 04) WAP to interchange first and last elements in a list."
   ]
  },
  {
   "cell_type": "code",
   "execution_count": 3,
   "metadata": {},
   "outputs": [
    {
     "name": "stdin",
     "output_type": "stream",
     "text": [
      "Enter List Size: 1\n",
      "Enter A Element:: 2\n"
     ]
    },
    {
     "name": "stdout",
     "output_type": "stream",
     "text": [
      "[2]\n"
     ]
    }
   ],
   "source": [
    "list = []\n",
    "n = int(input(\"Enter List Size:\"))\n",
    "\n",
    "for i in range(0,n):\n",
    "         element = int(input(\"Enter A Element::\"))\n",
    "         list.append(element)\n",
    "list[0],list[-1]=list[-1],list[0]\n",
    "print(list)"
   ]
  },
  {
   "cell_type": "markdown",
   "metadata": {},
   "source": [
    "### 05) WAP to split the List into two parts and append the first part to the end."
   ]
  },
  {
   "cell_type": "code",
   "execution_count": 1,
   "metadata": {},
   "outputs": [
    {
     "name": "stdin",
     "output_type": "stream",
     "text": [
      "Enter List Size: 3\n",
      " 1\n",
      " 2\n",
      " 3\n"
     ]
    },
    {
     "name": "stdout",
     "output_type": "stream",
     "text": [
      "[[2, 3], [1]]\n"
     ]
    }
   ],
   "source": [
    "list = []\n",
    "n = int(input(\"Enter List Size:\"))\n",
    "for i in range(0,n):\n",
    "     element = int(input())\n",
    "     list.append(element)\n",
    "mid = int(n/2)\n",
    "first_list = list[0:mid]\n",
    "second_list = list[mid:]\n",
    "newlist = []\n",
    "newlist.append(second_list)\n",
    "newlist.append(first_list)\n",
    "print(newlist)"
   ]
  },
  {
   "cell_type": "markdown",
   "metadata": {},
   "source": [
    "### 06) WAP to interchange the elements on two positions entered by a user."
   ]
  },
  {
   "cell_type": "code",
   "execution_count": 7,
   "metadata": {},
   "outputs": [
    {
     "name": "stdin",
     "output_type": "stream",
     "text": [
      "Enter List Size: 5\n",
      " 1\n",
      " 2\n",
      " 3\n",
      " 4\n",
      " 5\n",
      "enter first position 4\n",
      "enter second position 2\n"
     ]
    },
    {
     "name": "stdout",
     "output_type": "stream",
     "text": [
      "[1, 2, 5, 4, 3]\n"
     ]
    }
   ],
   "source": [
    "list = []\n",
    "n = int(input(\"Enter List Size:\"))\n",
    "for i in range(0,n):\n",
    "     element = int(input())\n",
    "     list.append(element)\n",
    "start = int(input('enter first position'))\n",
    "end=int(input('enter second position'))\n",
    "list[start],list[end]=list[end],list[start]\n",
    "print(list)"
   ]
  },
  {
   "cell_type": "markdown",
   "metadata": {},
   "source": [
    "### 07) WAP to reverse the list entered by user."
   ]
  },
  {
   "cell_type": "code",
   "execution_count": 9,
   "metadata": {},
   "outputs": [
    {
     "name": "stdin",
     "output_type": "stream",
     "text": [
      "Enter List Size: 2\n",
      " 1\n",
      " 4\n"
     ]
    },
    {
     "name": "stdout",
     "output_type": "stream",
     "text": [
      "[4, 1]\n"
     ]
    }
   ],
   "source": [
    "list = []\n",
    "n = int(input(\"Enter List Size:\"))\n",
    "for i in range(0,n):\n",
    "     element = int(input())\n",
    "     list.append(element)\n",
    "i=0\n",
    "j=n-1\n",
    "while i<j:\n",
    "    temp=list[i]\n",
    "    list[i]= list[j]\n",
    "    list[j]=temp\n",
    "    i+=1\n",
    "    j-=1\n",
    "print(list)"
   ]
  },
  {
   "cell_type": "markdown",
   "metadata": {},
   "source": [
    "### 08) WAP to print even numbers in a list."
   ]
  },
  {
   "cell_type": "code",
   "execution_count": 45,
   "metadata": {},
   "outputs": [
    {
     "name": "stdin",
     "output_type": "stream",
     "text": [
      "Enter List Size: 4\n",
      " 1\n",
      " 2\n",
      " 2\n",
      " 3\n"
     ]
    },
    {
     "name": "stdout",
     "output_type": "stream",
     "text": [
      "even 2\n",
      "odd 2\n"
     ]
    }
   ],
   "source": [
    "list = []\n",
    "n = int(input(\"Enter List Size:\"))\n",
    "for i in range(0,n):\n",
    "     element = int(input())\n",
    "     list.append(element)\n",
    "evencount=0\n",
    "oddcount=0\n",
    "for i in list:\n",
    "    if i%2==0:\n",
    "        evencount+=1\n",
    "    else:\n",
    "        oddcount+=1\n",
    "print(f'even',evencount)\n",
    "print(f'odd',oddcount)"
   ]
  },
  {
   "cell_type": "markdown",
   "metadata": {},
   "source": [
    "### 09) WAP to count unique items in a list."
   ]
  },
  {
   "cell_type": "code",
   "execution_count": 59,
   "metadata": {},
   "outputs": [
    {
     "name": "stdin",
     "output_type": "stream",
     "text": [
      "Enter List Size: 5\n",
      " 10\n",
      " 10\n",
      " 20\n",
      " 30\n",
      " 30\n"
     ]
    },
    {
     "name": "stdout",
     "output_type": "stream",
     "text": [
      "unique element [20]\n",
      "1\n"
     ]
    }
   ],
   "source": [
    "list = []\n",
    "l2=[]\n",
    "n = int(input(\"Enter List Size:\"))\n",
    "for i in range(0,n):\n",
    "     element = int(input())\n",
    "     list.append(element)\n",
    "for i in list:\n",
    "    if list.count(i)==1:\n",
    "        l2.append(i)\n",
    "print(f'unique element',l2)\n",
    "print(len(l2))"
   ]
  },
  {
   "cell_type": "markdown",
   "metadata": {},
   "source": [
    "### 10) WAP to copy a list."
   ]
  },
  {
   "cell_type": "code",
   "execution_count": 63,
   "metadata": {},
   "outputs": [
    {
     "name": "stdout",
     "output_type": "stream",
     "text": [
      "original list [1, 2, 3, 4, 5]\n",
      "copy list [1, 2, 3, 4, 5]\n"
     ]
    }
   ],
   "source": [
    "list = [1,2,3,4,5]\n",
    "l2=list.copy()\n",
    "print(f'original list',list)\n",
    "print(f'copy list',l2)"
   ]
  },
  {
   "cell_type": "markdown",
   "metadata": {},
   "source": [
    "### 11) WAP to print all odd numbers in a given range."
   ]
  },
  {
   "cell_type": "code",
   "execution_count": 88,
   "metadata": {},
   "outputs": [
    {
     "name": "stdout",
     "output_type": "stream",
     "text": [
      "odd num [1, 3, 5, 7, 9]\n"
     ]
    }
   ],
   "source": [
    "list = []\n",
    "for i in range(0,11):\n",
    "    if i%2!=0:\n",
    "        list.append(i)\n",
    "print(f'odd num',list)"
   ]
  },
  {
   "cell_type": "markdown",
   "metadata": {},
   "source": [
    "### 12) WAP to count occurrences of an element in a list."
   ]
  },
  {
   "cell_type": "code",
   "execution_count": 96,
   "metadata": {},
   "outputs": [
    {
     "name": "stdout",
     "output_type": "stream",
     "text": [
      "{1, 2, 3, 4, 5, 6, 7, 8, 9}\n",
      "count occurance i= 2\n",
      "count occurance i= 2\n",
      "count occurance i= 2\n",
      "count occurance i= 2\n",
      "count occurance i= 2\n",
      "count occurance i= 2\n",
      "count occurance i= 1\n",
      "count occurance i= 1\n",
      "count occurance i= 1\n"
     ]
    }
   ],
   "source": [
    "list=[1,2,3,4,5,6,7,8,9,4,5,6,1,2,3]\n",
    "count=0\n",
    "s=set(list)\n",
    "print(s)\n",
    "for i in s:\n",
    "    temp=list.count(i)\n",
    "    print(f'count occurance i=',temp)"
   ]
  },
  {
   "cell_type": "markdown",
   "metadata": {},
   "source": [
    "### 13) WAP to find second largest number in a list."
   ]
  },
  {
   "cell_type": "code",
   "execution_count": 104,
   "metadata": {},
   "outputs": [
    {
     "name": "stdin",
     "output_type": "stream",
     "text": [
      "Enter List Size: 4\n",
      " 1\n",
      " 2\n",
      " 5\n",
      " 4\n"
     ]
    },
    {
     "name": "stdout",
     "output_type": "stream",
     "text": [
      "second last is 4\n"
     ]
    }
   ],
   "source": [
    "list = []\n",
    "n = int(input(\"Enter List Size:\"))\n",
    "for i in range(0,n):\n",
    "     element = int(input())\n",
    "     list.append(element)\n",
    "list.sort()\n",
    "num=int(len(list))\n",
    "print(f'second last is',list[num-2])"
   ]
  },
  {
   "cell_type": "markdown",
   "metadata": {},
   "source": [
    "### 14) WAP to extract elements with frequency greater than K."
   ]
  },
  {
   "cell_type": "code",
   "execution_count": 106,
   "metadata": {},
   "outputs": [
    {
     "name": "stdout",
     "output_type": "stream",
     "text": [
      "Elements with frequency greater than 2 : [3, 4]\n"
     ]
    }
   ],
   "source": [
    "l1 = [1, 2, 2, 3, 3, 3, 4, 4, 4, 4, 5]\n",
    "k = 2\n",
    "freq = {}\n",
    "for num in l1:\n",
    "    if num in freq:\n",
    "        freq[num] += 1\n",
    "    else:\n",
    "        freq[num] = 1\n",
    "\n",
    "result = []\n",
    "\n",
    "for num, count in freq.items():\n",
    "    if count > k:\n",
    "        result.append(num)\n",
    "\n",
    "print(\"Elements with frequency greater than\", k, \":\", result)"
   ]
  },
  {
   "cell_type": "markdown",
   "metadata": {},
   "source": [
    "### 15) WAP to create a list of squared numbers from 0 to 9 with and without using List Comprehension."
   ]
  },
  {
   "cell_type": "code",
   "execution_count": 108,
   "metadata": {},
   "outputs": [
    {
     "name": "stdout",
     "output_type": "stream",
     "text": [
      "[0, 1, 4, 9, 16, 25, 36, 49, 64, 81]\n",
      "[0, 1, 4, 9, 16, 25, 36, 49, 64, 81]\n"
     ]
    }
   ],
   "source": [
    "l1 = [0,1,2,3,4,5,6,7,8,9]\n",
    "l2 = []\n",
    "for i in l1:\n",
    "    l2.append(i**2)\n",
    "print(l2)\n",
    "\n",
    "l3 = [i**2 for i in l1]\n",
    "print(l3)"
   ]
  },
  {
   "cell_type": "markdown",
   "metadata": {},
   "source": [
    "### 16) WAP to create a new list (fruit whose name starts with 'b') from the list of fruits given by user."
   ]
  },
  {
   "cell_type": "code",
   "execution_count": 110,
   "metadata": {},
   "outputs": [
    {
     "name": "stdin",
     "output_type": "stream",
     "text": [
      "Enter a list of fruits :  4\n"
     ]
    },
    {
     "name": "stdout",
     "output_type": "stream",
     "text": [
      "Fruits starting with 'b': []\n"
     ]
    }
   ],
   "source": [
    "fruits = input(\"Enter a list of fruits : \").split()\n",
    "\n",
    "b_fruits = [fruit for fruit in fruits if fruit.lower().startswith('b')]\n",
    "\n",
    "print(\"Fruits starting with 'b':\", b_fruits)"
   ]
  },
  {
   "cell_type": "markdown",
   "metadata": {},
   "source": [
    "### 17) WAP to create a list of common elements from given two lists."
   ]
  },
  {
   "cell_type": "code",
   "execution_count": null,
   "metadata": {},
   "outputs": [],
   "source": [
    "n1 = int(input(\"Enter size of list 1 \"))\n",
    "l1 = []\n",
    "for i in range(0,n1):\n",
    "    l1.append(int(input(\"Enter number \")))\n",
    "n2 = int(input(\"Enter size of list 2 \"))\n",
    "l2 = []\n",
    "for i in range(0,n2):\n",
    "    l2.append(int(input(\"Enter number \")))\n",
    "\n",
    "common_elements = [element for element in l1 if element in l2]\n",
    "\n",
    "print(\"Common elements:\", common_elements)"
   ]
  }
 ],
 "metadata": {
  "kernelspec": {
   "display_name": "Python 3 (ipykernel)",
   "language": "python",
   "name": "python3"
  },
  "language_info": {
   "codemirror_mode": {
    "name": "ipython",
    "version": 3
   },
   "file_extension": ".py",
   "mimetype": "text/x-python",
   "name": "python",
   "nbconvert_exporter": "python",
   "pygments_lexer": "ipython3",
   "version": "3.12.7"
  }
 },
 "nbformat": 4,
 "nbformat_minor": 4
}
